{
 "cells": [
  {
   "cell_type": "markdown",
   "metadata": {},
   "source": [
    "# Twitter Thesis Project: Analyzing tweets "
   ]
  },
  {
   "cell_type": "markdown",
   "metadata": {},
   "source": [
    "## Label your tweets (this is a manual step!)\n",
    "\n",
    "\n",
    "In order to teach the computer how to classify the tweets automatically, we have to feed the program a lot of tweets together with the class they belong to. These example tweets have to be 'labeled' (given a label that indicates which class they belong to) by someone who can tell the correct class simply from reading the tweet (you). \n",
    "\n",
    "These are the steps you can take to prepare your tweet dataset for classification:\n",
    "\n",
    "- decide on the classes you want to use. \n",
    "- number these classes from 0 to the number of classes you have - 1. E.g., if you have 4 classes, you need to use the labels 0,1,2,3. \n",
    "- add a column to your dataset (or safer: create a copy of your dataset and add a new column there) where you add the correct label for each of your tweets. To start, try to label at least 100 tweets for each class. It will become clear later on if the classifier needs more examples to learn from. \n",
    "\n",
    "**Example: tweets with the keyword 'brussel'**\n",
    "\n",
    "As an example application, we have collected (through streaming) a number of tweets which contain the keyword 'brussel'. Since the keyword is Dutch, most of the collected tweets are also in Dutch. We would like to train a classifier that automically determines whether a new tweet belongs to one of the following classes: mobility (0), politics or opinion on politics (1), brussels sprouts (2), other (3). We have changed the original file of collected tweets by adding a column with the correct labels. Examples of each class include:\n",
    "\n",
    "*De trein tussen Brussel en Mechelen, eender welke, da's toch echt roulette spelen: welke komt met het minste vertra… https://t.co/wJ4uXA906d* **(label: 0)**\n",
    "\n",
    "*@peeters_kris1 @Europarl_NL Mijnheer Peeters, hieronder het nefaste resultaat van de Europese immigratiepolitiek. D… https://t.co/Ia92qNOMcQ* **(label: 1)**\n",
    "\n",
    "*@GavinWren Tamales\n",
    "Brussel Sprouts\n",
    "Lemons* **(label: 2)**\n",
    "\n",
    "*#Reminder | Over slechts twee dagen vindt de vierde editie van de Mansholtlezing in Brussel plaats over de eiwittra… https://t.co/XJTRGfZhZ* **(label: 3)**\n",
    "\n",
    "\n",
    "\n"
   ]
  },
  {
   "cell_type": "markdown",
   "metadata": {},
   "source": [
    "## Load all the additional libraries and tools we will use"
   ]
  },
  {
   "cell_type": "code",
   "execution_count": 1,
   "metadata": {},
   "outputs": [
    {
     "name": "stderr",
     "output_type": "stream",
     "text": [
      "/Library/Frameworks/Python.framework/Versions/3.6/lib/python3.6/site-packages/sklearn/ensemble/weight_boosting.py:29: DeprecationWarning: numpy.core.umath_tests is an internal NumPy module and should not be imported. It will be removed in a future NumPy release.\n",
      "  from numpy.core.umath_tests import inner1d\n"
     ]
    }
   ],
   "source": [
    "import pandas as pd #this is a datascience library that we will use to load and preprocess the tweets\n",
    "import matplotlib.pyplot as plt #this is a plotting library that we will use to make graphs\n",
    "from sklearn.feature_extraction.text import TfidfVectorizer #this is a machine learning tool we will use to find a mathematical representation of the tweets\n",
    "from sklearn.feature_selection import chi2\n",
    "\n",
    "from sklearn.utils import resample\n",
    "\n",
    "from sklearn.linear_model import LogisticRegression\n",
    "from sklearn.ensemble import RandomForestClassifier\n",
    "from sklearn.svm import LinearSVC\n",
    "from sklearn.model_selection import cross_val_score\n",
    "from sklearn.model_selection import train_test_split\n",
    "from sklearn.metrics import confusion_matrix\n",
    "\n",
    "import numpy as np\n",
    "\n",
    "import scipy.stats as stats\n",
    "import researchpy as rp\n",
    "import statsmodels.api as sm\n",
    "from statsmodels.formula.api import ols\n",
    "import seaborn as sns\n",
    "\n",
    "import csv\n",
    "import os.path\n",
    "from io import StringIO "
   ]
  },
  {
   "cell_type": "markdown",
   "metadata": {},
   "source": [
    "## Load the tweets you previously collected and annotated"
   ]
  },
  {
   "cell_type": "markdown",
   "metadata": {},
   "source": [
    "### Load the annotated tweets"
   ]
  },
  {
   "cell_type": "code",
   "execution_count": 2,
   "metadata": {},
   "outputs": [
    {
     "name": "stdout",
     "output_type": "stream",
     "text": [
      "(5000, 18)\n"
     ]
    }
   ],
   "source": [
    "tweet_dataset = pd.read_csv('negen_dertien_combined_labeled_tweets.csv', delimiter = ';', skiprows = 0, nrows=5000) #you can change the name of the file you want to load here\n",
    "\n",
    "tweet_dataset.Labeled_Vacancy = tweet_dataset.Labeled_Vacancy.astype(int) #to make sure the labels are correclty read as integer values\n",
    "tweet_dataset.Label = tweet_dataset.Labeled_Vacancy\n",
    "tweet_dataset.head() #this will show the top lines in your dataset\n",
    "\n",
    "\n",
    "print(tweet_dataset.shape)"
   ]
  },
  {
   "cell_type": "markdown",
   "metadata": {},
   "source": [
    "### Make a graph of how many tweets per category you have"
   ]
  },
  {
   "cell_type": "code",
   "execution_count": 3,
   "metadata": {},
   "outputs": [
    {
     "data": {
      "image/png": "[encoded data removed]",
      "text/plain": [
       "<matplotlib.figure.Figure at 0x11a760630>"
      ]
     },
     "metadata": {
      "needs_background": "light"
     },
     "output_type": "display_data"
    }
   ],
   "source": [
    "fig = plt.figure(figsize=(8,6))\n",
    "tweet_dataset.groupby('Labeled_Vacancy').Text.count().plot.bar(ylim=0)\n",
    "plt.show()"
   ]
  },
  {
   "cell_type": "code",
   "execution_count": 4,
   "metadata": {},
   "outputs": [
    {
     "data": {
      "image/png": "[encoded data removed]",
      "text/plain": [
       "<matplotlib.figure.Figure at 0x105a12a90>"
      ]
     },
     "metadata": {
      "needs_background": "light"
     },
     "output_type": "display_data"
    },
    {
     "name": "stdout",
     "output_type": "stream",
     "text": [
      "33      Join the Enterprise Holdings team! See our lat...\n",
      "34      Can you recommend anyone for these 95 #Healthc...\n",
      "35      Interested in a job in #Mississauga, ON? This ...\n",
      "41      Pest Control Technical Inspector / Fiel… job a...\n",
      "46      Fresno CA USA - Regional Marketing Manager - W...\n",
      "47      #Customer #Support #Applications #Senior #Engi...\n",
      "48      Banking jobs latest upcoming bank exam vacancy...\n",
      "69                Another nut job https://t.co/D1BdUkNZKa\n",
      "83      We have 28 jobs open today at Kelly Services, ...\n",
      "84      This Business job might be a great fit for you...\n",
      "88      Align Technology is looking for: Territory Man...\n",
      "133     The application window is OPEN! Click here to ...\n",
      "141     Jobs - Nursing Schools &amp; Allied Health Pro...\n",
      "144     Now hiring for 34 job opportunities at Waste M...\n",
      "145     #StokeJobs Workshop Manager: Ashtead Plant Hir...\n",
      "146     Now hiring for 27 #Banking job opportunities i...\n",
      "150     #StokeJobs Sales Manager - Franchise: https://...\n",
      "151     Looking for a #SalonCareer in Boca Raton, FL? ...\n",
      "154     #StokeJobs Maintenance Engineer: Pioneer Selec...\n",
      "160     Ireland Jobs: Telematics Engineer / Auto Elect...\n",
      "170     Class 1 Night Driver job at Driver Hire Halifa...\n",
      "174     Very awesome job alert 🚨 Freedom House is hiri...\n",
      "178     Oscar is looking for a Data Scientist, Researc...\n",
      "185     Hiring: North America Advisory Services \\ Trai...\n",
      "186     Data Scientist job at Harnham US - New York, N...\n",
      "235     Interested in a job in #Omaha, NE? This could ...\n",
      "252     Sales Manager Density &amp; Viscosity Instr… j...\n",
      "263     We have just posted a new job on https://t.co/...\n",
      "270     Nervous to apply for a job like \"Experienced H...\n",
      "273     Urgent hiring:\\n\\nCustomer Service Representat...\n",
      "                              ...                        \n",
      "4740    I'm recruiting for: Quality Officer / Field Ca...\n",
      "4744    Trailer Technician (2nd Shift) - Amerit Fleet ...\n",
      "4769    Aspen Dental is hiring in Anderson, SC! Read a...\n",
      "4774    We have 335 #Nursing jobs open today in #Scott...\n",
      "4776    Can you recommend anyone for these 40 #Busines...\n",
      "4777    Now hiring for 30 #Automotive job opportunitie...\n",
      "4780    Want to work at CenturyLink? We're hiring in #...\n",
      "4781    Now hiring for 152 #FacilitiesMgmt job opportu...\n",
      "4782    [Job] Reliability Engineer - Zuid-Nederland | ...\n",
      "4783    Want to work at CHI? We're hiring in #MtSterli...\n",
      "4785    Trailer Technician (2nd Shift) - Amerit Fleet ...\n",
      "4790    #NowHiring: #Customer Service &amp; Sales Assi...\n",
      "4807    #Assistant Manager - #Engineering - Structures...\n",
      "4817    New #job: External Sales Brussels - Green Ener...\n",
      "4825    Can you recommend anyone for this #Transportat...\n",
      "4826    This job might be a great fit for you: Sr. Acc...\n",
      "4876    #Professorship #Bioinformatics, Saarland, Germ...\n",
      "4878    ⭐️NEW ROLE ⭐️Developer – Node | London | £450 ...\n",
      "4884    This job might be a great fit for you: Junior ...\n",
      "4885    Can you recommend anyone for this #Transportat...\n",
      "4896    #Emploi #JobSearch, #JobOpening #recrutement #...\n",
      "4900    Peloton is looking for an Inventory Operations...\n",
      "4915    English - Hungarian translation project - http...\n",
      "4917    #Emploi #JobSearch, #JobOpening #recrutement #...\n",
      "4927    #Emploi #JobSearch, #JobOpening #recrutement #...\n",
      "4932    100+ Jobs Available Right Now ⬇️ Email :- r17p...\n",
      "4960    SAIC is hiring in #Springfield, VA! Click the ...\n",
      "4984    #SouthwestAirlines is hiring a Senior Training...\n",
      "4994    Echa un vistazo a esta #oferta: #Regional #Dat...\n",
      "4999    #SpherionRecruiting is hiring a #Production #W...\n",
      "Name: Text, Length: 616, dtype: object\n"
     ]
    }
   ],
   "source": [
    "# Separate majority and minority classes\n",
    "df = tweet_dataset; \n",
    "df_majority = df[df.Labeled_Vacancy==0]\n",
    "df_minority = df[df.Labeled_Vacancy==1]\n",
    "#df_minority = pd.concat([df[df.Label==0],df[df.Label==1],df[df.Label==2]])\n",
    "\n",
    "    \n",
    "# Downsample majority class\n",
    "df_majority_downsampled = resample(df_majority, \n",
    "                                 replace=False,    # sample without replacement\n",
    "                                 n_samples=df_minority.shape[0],     # to match minority class\n",
    "                                 random_state=123) # reproducible results\n",
    " \n",
    "# Combine minority class with downsampled majority class\n",
    "df_downsampled = pd.concat([df_majority_downsampled, df_minority])\n",
    " \n",
    "    \n",
    "    \n",
    "\n",
    "tweet_dataset = df_downsampled;\n",
    "tweet_dataset.groupby('Labeled_Vacancy').Text.count().plot.bar(ylim=0)\n",
    "plt.show()\n",
    "\n",
    "\n",
    "print(tweet_dataset[tweet_dataset.Labeled_Vacancy == 1].Text)\n",
    "\n"
   ]
  },
  {
   "cell_type": "markdown",
   "metadata": {},
   "source": [
    "## Convert the tweet texts to an input format the classifier can read\n",
    "\n",
    "The classifier, i.e., a computer program, will perform certain mathematical operations on each tweet to determine which class it belongs to. We thus have to feed the classifier with a mathematical representation of the tweet. We will used a method called 'bag of words' to find mathemical representations (in the form of **vectors**) for each tweet text. "
   ]
  },
  {
   "cell_type": "markdown",
   "metadata": {},
   "source": [
    "### Convert the tweets to vectors"
   ]
  },
  {
   "cell_type": "code",
   "execution_count": 5,
   "metadata": {},
   "outputs": [
    {
     "name": "stderr",
     "output_type": "stream",
     "text": [
      "/Library/Frameworks/Python.framework/Versions/3.6/lib/python3.6/site-packages/sklearn/feature_extraction/text.py:1089: FutureWarning: Conversion of the second argument of issubdtype from `float` to `np.floating` is deprecated. In future, it will be treated as `np.float64 == np.dtype(float).type`.\n",
      "  if hasattr(X, 'dtype') and np.issubdtype(X.dtype, np.float):\n"
     ]
    }
   ],
   "source": [
    "tfidf = TfidfVectorizer(sublinear_tf=True, min_df=10, norm='l2', encoding='latin-1', ngram_range=(1, 2), stop_words='english')\n",
    "features = tfidf.fit_transform(tweet_dataset.Text).toarray()\n",
    "labels = tweet_dataset.Labeled_Vacancy\n"
   ]
  },
  {
   "cell_type": "markdown",
   "metadata": {},
   "source": [
    "### (Intermezzo: Check the important words per class)"
   ]
  },
  {
   "cell_type": "code",
   "execution_count": 6,
   "metadata": {},
   "outputs": [
    {
     "name": "stdout",
     "output_type": "stream",
     "text": [
      "# 'other':\n",
      "  . Most correlated unigrams:\n",
      ". link\n",
      ". just\n",
      ". bio\n",
      ". click\n",
      ". hiring\n",
      ". bts_twt\n",
      ". hr\n",
      ". did\n",
      ". good\n",
      ". https\n",
      "  . Most correlated bigrams:\n",
      ". job opportunities\n",
      ". gt gt\n",
      ". engineering jobs\n",
      ". info https\n",
      ". apply https\n",
      ". jobs info\n",
      ". click link\n",
      ". link bio\n",
      ". great job\n",
      ". good job\n",
      "  . Most correlated trigrams:\n",
      ". \n",
      "# 'vacancy':\n",
      "  . Most correlated unigrams:\n",
      ". link\n",
      ". just\n",
      ". bio\n",
      ". click\n",
      ". hiring\n",
      ". bts_twt\n",
      ". hr\n",
      ". did\n",
      ". good\n",
      ". https\n",
      "  . Most correlated bigrams:\n",
      ". job opportunities\n",
      ". gt gt\n",
      ". engineering jobs\n",
      ". info https\n",
      ". apply https\n",
      ". jobs info\n",
      ". click link\n",
      ". link bio\n",
      ". great job\n",
      ". good job\n",
      "  . Most correlated trigrams:\n",
      ". \n"
     ]
    }
   ],
   "source": [
    "\n",
    "#class_to_labels = {\n",
    "#    'mobility' : 0, \n",
    "#    'politics' : 1, \n",
    "#    'sprouts' : 2, \n",
    "#    'other' : 3\n",
    "#}\n",
    "\n",
    "class_to_labels = {\n",
    "    'other' : 0, \n",
    "    'vacancy' : 1, \n",
    "}\n",
    "\n",
    "#category_id_df = df[['Product', 'category_id']].drop_duplicates().sort_values('category_id')\n",
    "#category_to_id = dict(category_id_df.values)\n",
    "#id_to_category = dict(category_id_df[['category_id', 'Product']].values)\n",
    "#df.head()\n",
    "\n",
    "\n",
    "N = 10\n",
    "for category, label in sorted(class_to_labels.items()):\n",
    "    features_chi2 = chi2(features, labels==label)\n",
    "    indices = np.argsort(features_chi2[0])\n",
    "    feature_names = np.array(tfidf.get_feature_names())[indices]\n",
    "    unigrams = [v for v in feature_names if len(v.split(' ')) == 1]\n",
    "    bigrams = [v for v in feature_names if len(v.split(' ')) == 2]\n",
    "    trigrams = [v for v in feature_names if len(v.split(' ')) == 3]\n",
    "    print(\"# '{}':\".format(category))\n",
    "    print(\"  . Most correlated unigrams:\\n. {}\".format('\\n. '.join(unigrams[-N:])))\n",
    "    print(\"  . Most correlated bigrams:\\n. {}\".format('\\n. '.join(bigrams[-N:])))\n",
    "    print(\"  . Most correlated trigrams:\\n. {}\".format('\\n. '.join(trigrams[-N:])))"
   ]
  },
  {
   "cell_type": "markdown",
   "metadata": {},
   "source": [
    "## Train a classifier on the tweets represented as vectors "
   ]
  },
  {
   "cell_type": "code",
   "execution_count": 7,
   "metadata": {},
   "outputs": [
    {
     "data": {
      "image/png": "[encoded data removed]",
      "text/plain": [
       "<matplotlib.figure.Figure at 0x11b084c18>"
      ]
     },
     "metadata": {
      "needs_background": "light"
     },
     "output_type": "display_data"
    }
   ],
   "source": [
    "models = [\n",
    "    RandomForestClassifier(n_estimators=200, max_depth=3, random_state=0),\n",
    "    LinearSVC(),\n",
    "    LogisticRegression(random_state=0),\n",
    "]\n",
    "CV = 5\n",
    "cv_df = pd.DataFrame(index=range(CV * len(models)))\n",
    "entries = []\n",
    "for model in models:\n",
    "  model_name = model.__class__.__name__\n",
    "  accuracies = cross_val_score(model, features, labels, scoring='accuracy', cv=CV)\n",
    "  for fold_idx, accuracy in enumerate(accuracies):\n",
    "    entries.append((model_name, fold_idx, accuracy))\n",
    "cv_df = pd.DataFrame(entries, columns=['model_name', 'fold_idx', 'accuracy'])\n",
    "\n",
    "\n",
    "sns.boxplot(x='model_name', y='accuracy', data=cv_df)\n",
    "sns.stripplot(x='model_name', y='accuracy', data=cv_df, \n",
    "              size=8, jitter=True, edgecolor=\"gray\", linewidth=2)\n",
    "plt.show()"
   ]
  },
  {
   "cell_type": "code",
   "execution_count": 10,
   "metadata": {},
   "outputs": [
    {
     "name": "stdout",
     "output_type": "stream",
     "text": [
      "(985, 246)\n",
      "[0.         0.         0.         0.         0.         0.\n",
      " 0.         0.         0.         0.         0.         0.\n",
      " 0.         0.         0.         0.         0.         0.\n",
      " 0.         0.         0.94577564 0.         0.         0.\n",
      " 0.         0.         0.         0.         0.         0.\n",
      " 0.         0.         0.         0.         0.         0.\n",
      " 0.         0.         0.         0.         0.         0.\n",
      " 0.         0.         0.         0.         0.         0.\n",
      " 0.         0.         0.         0.         0.         0.\n",
      " 0.         0.         0.         0.         0.         0.\n",
      " 0.         0.         0.         0.         0.         0.\n",
      " 0.         0.         0.         0.         0.         0.\n",
      " 0.         0.         0.         0.         0.         0.\n",
      " 0.         0.         0.         0.         0.         0.\n",
      " 0.         0.         0.         0.         0.         0.\n",
      " 0.         0.         0.         0.         0.         0.\n",
      " 0.         0.         0.         0.         0.         0.\n",
      " 0.         0.         0.         0.         0.         0.\n",
      " 0.         0.         0.         0.         0.         0.\n",
      " 0.         0.         0.         0.         0.         0.\n",
      " 0.         0.         0.32482062 0.         0.         0.\n",
      " 0.         0.         0.         0.         0.         0.\n",
      " 0.         0.         0.         0.         0.         0.\n",
      " 0.         0.         0.         0.         0.         0.\n",
      " 0.         0.         0.         0.         0.         0.\n",
      " 0.         0.         0.         0.         0.         0.\n",
      " 0.         0.         0.         0.         0.         0.\n",
      " 0.         0.         0.         0.         0.         0.\n",
      " 0.         0.         0.         0.         0.         0.\n",
      " 0.         0.         0.         0.         0.         0.\n",
      " 0.         0.         0.         0.         0.         0.\n",
      " 0.         0.         0.         0.         0.         0.\n",
      " 0.         0.         0.         0.         0.         0.\n",
      " 0.         0.         0.         0.         0.         0.\n",
      " 0.         0.         0.         0.         0.         0.\n",
      " 0.         0.         0.         0.         0.         0.\n",
      " 0.         0.         0.         0.         0.         0.\n",
      " 0.         0.         0.         0.         0.         0.\n",
      " 0.         0.         0.         0.         0.         0.\n",
      " 0.         0.         0.         0.         0.         0.\n",
      " 0.         0.         0.         0.         0.         0.        ]\n"
     ]
    },
    {
     "data": {
      "image/png": "[encoded data removed]",
      "text/plain": [
       "<matplotlib.figure.Figure at 0x11b24dba8>"
      ]
     },
     "metadata": {
      "needs_background": "light"
     },
     "output_type": "display_data"
    }
   ],
   "source": [
    "model = LogisticRegression(random_state=0)\n",
    "X_train, X_test, y_train, y_test, indices_train, indices_test = train_test_split(features, labels, tweet_dataset.index, test_size=0.20, random_state=0)\n",
    "model.fit(X_train, y_train)\n",
    "y_pred = model.predict(X_test)\n",
    "\n",
    "print(X_train.shape)\n",
    "\n",
    "print(X_train[0,:])\n",
    "\n",
    "\n",
    "conf_mat = confusion_matrix(y_test, y_pred)\n",
    "fig, ax = plt.subplots(figsize=(10,10))\n",
    "#sns.heatmap(conf_mat, annot=True, fmt='d',xticklabels=category_id_df.Product.values, yticklabels=category_id_df.Product.values)\n",
    "sns.heatmap(conf_mat, annot=True, fmt='d')\n",
    "plt.ylabel('Actual')\n",
    "plt.xlabel('Predicted')\n",
    "plt.show()"
   ]
  },
  {
   "cell_type": "markdown",
   "metadata": {},
   "source": [
    "## Classify complete dataset"
   ]
  },
  {
   "cell_type": "code",
   "execution_count": 47,
   "metadata": {},
   "outputs": [
    {
     "name": "stdout",
     "output_type": "stream",
     "text": [
      "could not parse tweet\n",
      "could not parse tweet\n",
      "could not parse tweet\n",
      "could not parse tweet\n",
      "could not parse tweet\n",
      "could not parse tweet\n",
      "could not parse tweet\n",
      "could not parse tweet\n",
      "could not parse tweet\n",
      "could not parse tweet\n",
      "could not parse tweet\n",
      "could not parse tweet\n",
      "could not parse tweet\n",
      "could not parse tweet\n",
      "could not parse tweet\n",
      "could not parse tweet\n",
      "could not parse tweet\n",
      "could not parse tweet\n",
      "could not parse tweet\n",
      "could not parse tweet\n",
      "could not parse tweet\n",
      "could not parse tweet\n",
      "could not parse tweet\n",
      "could not parse tweet\n",
      "could not parse tweet\n",
      "could not parse tweet\n",
      "could not parse tweet\n",
      "could not parse tweet\n",
      "could not parse tweet\n",
      "could not parse tweet\n",
      "could not parse tweet\n",
      "could not parse tweet\n",
      "could not parse tweet\n",
      "could not parse tweet\n",
      "could not parse tweet\n",
      "could not parse tweet\n",
      "could not parse tweet\n",
      "could not parse tweet\n",
      "could not parse tweet\n",
      "could not parse tweet\n",
      "could not parse tweet\n",
      "could not parse tweet\n",
      "could not parse tweet\n",
      "could not parse tweet\n",
      "could not parse tweet\n",
      "could not parse tweet\n",
      "could not parse tweet\n",
      "could not parse tweet\n",
      "could not parse tweet\n",
      "could not parse tweet\n",
      "could not parse tweet\n",
      "could not parse tweet\n",
      "could not parse tweet\n",
      "could not parse tweet\n",
      "could not parse tweet\n",
      "could not parse tweet\n",
      "could not parse tweet\n",
      "could not parse tweet\n",
      "could not parse tweet\n",
      "could not parse tweet\n",
      "could not parse tweet\n",
      "could not parse tweet\n",
      "could not parse tweet\n",
      "could not parse tweet\n",
      "could not parse tweet\n",
      "could not parse tweet\n",
      "could not parse tweet\n",
      "could not parse tweet\n",
      "could not parse tweet\n",
      "could not parse tweet\n",
      "could not parse tweet\n",
      "could not parse tweet\n",
      "could not parse tweet\n",
      "could not parse tweet\n",
      "could not parse tweet\n",
      "could not parse tweet\n",
      "could not parse tweet\n",
      "could not parse tweet\n",
      "could not parse tweet\n",
      "could not parse tweet\n",
      "could not parse tweet\n",
      "could not parse tweet\n",
      "could not parse tweet\n",
      "could not parse tweet\n",
      "could not parse tweet\n",
      "could not parse tweet\n",
      "could not parse tweet\n",
      "could not parse tweet\n",
      "could not parse tweet\n",
      "could not parse tweet\n",
      "could not parse tweet\n",
      "could not parse tweet\n",
      "could not parse tweet\n",
      "could not parse tweet\n",
      "could not parse tweet\n",
      "could not parse tweet\n",
      "could not parse tweet\n",
      "could not parse tweet\n",
      "could not parse tweet\n",
      "could not parse tweet\n",
      "could not parse tweet\n",
      "could not parse tweet\n",
      "could not parse tweet\n",
      "could not parse tweet\n",
      "could not parse tweet\n",
      "could not parse tweet\n",
      "could not parse tweet\n",
      "could not parse tweet\n",
      "could not parse tweet\n",
      "could not parse tweet\n",
      "could not parse tweet\n",
      "could not parse tweet\n",
      "could not parse tweet\n",
      "could not parse tweet\n",
      "could not parse tweet\n",
      "could not parse tweet\n",
      "could not parse tweet\n",
      "could not parse tweet\n",
      "could not parse tweet\n",
      "could not parse tweet\n",
      "could not parse tweet\n",
      "could not parse tweet\n",
      "could not parse tweet\n",
      "could not parse tweet\n",
      "could not parse tweet\n",
      "could not parse tweet\n",
      "could not parse tweet\n",
      "could not parse tweet\n",
      "could not parse tweet\n",
      "could not parse tweet\n",
      "could not parse tweet\n",
      "could not parse tweet\n",
      "could not parse tweet\n",
      "could not parse tweet\n",
      "could not parse tweet\n",
      "could not parse tweet\n",
      "could not parse tweet\n",
      "could not parse tweet\n",
      "could not parse tweet\n",
      "could not parse tweet\n",
      "could not parse tweet\n",
      "could not parse tweet\n",
      "could not parse tweet\n",
      "could not parse tweet\n",
      "could not parse tweet\n",
      "could not parse tweet\n",
      "could not parse tweet\n",
      "could not parse tweet\n",
      "could not parse tweet\n",
      "could not parse tweet\n",
      "could not parse tweet\n",
      "could not parse tweet\n",
      "could not parse tweet\n",
      "could not parse tweet\n",
      "could not parse tweet\n",
      "could not parse tweet\n",
      "could not parse tweet\n",
      "could not parse tweet\n",
      "could not parse tweet\n",
      "could not parse tweet\n",
      "could not parse tweet\n",
      "could not parse tweet\n",
      "could not parse tweet\n",
      "could not parse tweet\n",
      "could not parse tweet\n",
      "could not parse tweet\n",
      "could not parse tweet\n",
      "could not parse tweet\n",
      "could not parse tweet\n",
      "could not parse tweet\n",
      "could not parse tweet\n",
      "could not parse tweet\n",
      "could not parse tweet\n",
      "could not parse tweet\n",
      "could not parse tweet\n",
      "could not parse tweet\n",
      "could not parse tweet\n",
      "could not parse tweet\n",
      "could not parse tweet\n",
      "could not parse tweet\n",
      "could not parse tweet\n",
      "could not parse tweet\n",
      "could not parse tweet\n",
      "could not parse tweet\n",
      "could not parse tweet\n",
      "could not parse tweet\n",
      "could not parse tweet\n",
      "could not parse tweet\n",
      "could not parse tweet\n",
      "could not parse tweet\n",
      "could not parse tweet\n",
      "could not parse tweet\n",
      "could not parse tweet\n",
      "could not parse tweet\n",
      "could not parse tweet\n",
      "could not parse tweet\n",
      "could not parse tweet\n",
      "could not parse tweet\n",
      "could not parse tweet\n",
      "could not parse tweet\n",
      "could not parse tweet\n",
      "could not parse tweet\n",
      "could not parse tweet\n",
      "could not parse tweet\n",
      "could not parse tweet\n",
      "could not parse tweet\n",
      "could not parse tweet\n",
      "could not parse tweet\n",
      "could not parse tweet\n",
      "could not parse tweet\n",
      "could not parse tweet\n",
      "could not parse tweet\n",
      "could not parse tweet\n",
      "could not parse tweet\n",
      "could not parse tweet\n",
      "could not parse tweet\n",
      "could not parse tweet\n",
      "could not parse tweet\n",
      "could not parse tweet\n",
      "could not parse tweet\n",
      "could not parse tweet\n",
      "could not parse tweet\n",
      "could not parse tweet\n",
      "could not parse tweet\n",
      "could not parse tweet\n",
      "could not parse tweet\n",
      "could not parse tweet\n",
      "could not parse tweet\n",
      "could not parse tweet\n",
      "could not parse tweet\n",
      "could not parse tweet\n",
      "could not parse tweet\n",
      "could not parse tweet\n",
      "could not parse tweet\n",
      "could not parse tweet\n",
      "could not parse tweet\n",
      "could not parse tweet\n",
      "could not parse tweet\n",
      "could not parse tweet\n",
      "could not parse tweet\n",
      "could not parse tweet\n",
      "could not parse tweet\n",
      "could not parse tweet\n",
      "could not parse tweet\n",
      "could not parse tweet\n",
      "could not parse tweet\n",
      "could not parse tweet\n",
      "could not parse tweet\n",
      "could not parse tweet\n",
      "could not parse tweet\n",
      "could not parse tweet\n",
      "could not parse tweet\n",
      "could not parse tweet\n",
      "could not parse tweet\n",
      "could not parse tweet\n",
      "could not parse tweet\n",
      "could not parse tweet\n",
      "could not parse tweet\n",
      "could not parse tweet\n",
      "could not parse tweet\n",
      "could not parse tweet\n",
      "could not parse tweet\n",
      "could not parse tweet\n",
      "could not parse tweet\n",
      "could not parse tweet\n",
      "could not parse tweet\n",
      "could not parse tweet\n",
      "could not parse tweet\n",
      "could not parse tweet\n",
      "could not parse tweet\n",
      "could not parse tweet\n",
      "could not parse tweet\n",
      "could not parse tweet\n",
      "could not parse tweet\n",
      "could not parse tweet\n",
      "could not parse tweet\n",
      "could not parse tweet\n",
      "could not parse tweet\n",
      "could not parse tweet\n",
      "could not parse tweet\n",
      "could not parse tweet\n",
      "could not parse tweet\n",
      "could not parse tweet\n",
      "could not parse tweet\n",
      "could not parse tweet\n",
      "could not parse tweet\n",
      "could not parse tweet\n",
      "could not parse tweet\n",
      "could not parse tweet\n",
      "could not parse tweet\n",
      "could not parse tweet\n",
      "could not parse tweet\n",
      "could not parse tweet\n",
      "could not parse tweet\n",
      "could not parse tweet\n",
      "could not parse tweet\n",
      "could not parse tweet\n",
      "could not parse tweet\n",
      "could not parse tweet\n",
      "could not parse tweet\n",
      "could not parse tweet\n",
      "could not parse tweet\n",
      "could not parse tweet\n",
      "could not parse tweet\n",
      "could not parse tweet\n",
      "could not parse tweet\n",
      "could not parse tweet\n",
      "could not parse tweet\n",
      "could not parse tweet\n",
      "could not parse tweet\n",
      "could not parse tweet\n",
      "could not parse tweet\n",
      "could not parse tweet\n",
      "could not parse tweet\n",
      "could not parse tweet\n",
      "could not parse tweet\n",
      "could not parse tweet\n",
      "could not parse tweet\n",
      "could not parse tweet\n",
      "could not parse tweet\n",
      "could not parse tweet\n",
      "could not parse tweet\n",
      "could not parse tweet\n",
      "could not parse tweet\n",
      "could not parse tweet\n",
      "could not parse tweet\n",
      "could not parse tweet\n",
      "could not parse tweet\n",
      "could not parse tweet\n",
      "could not parse tweet\n",
      "could not parse tweet\n",
      "could not parse tweet\n",
      "could not parse tweet\n",
      "could not parse tweet\n",
      "could not parse tweet\n",
      "could not parse tweet\n",
      "could not parse tweet\n",
      "could not parse tweet\n",
      "could not parse tweet\n",
      "could not parse tweet\n",
      "could not parse tweet\n",
      "could not parse tweet\n",
      "could not parse tweet\n",
      "could not parse tweet\n",
      "could not parse tweet\n",
      "could not parse tweet\n",
      "could not parse tweet\n",
      "could not parse tweet\n",
      "could not parse tweet\n",
      "could not parse tweet\n",
      "could not parse tweet\n",
      "could not parse tweet\n",
      "could not parse tweet\n",
      "could not parse tweet\n",
      "could not parse tweet\n",
      "could not parse tweet\n",
      "could not parse tweet\n",
      "could not parse tweet\n",
      "could not parse tweet\n",
      "could not parse tweet\n",
      "could not parse tweet\n",
      "could not parse tweet\n",
      "could not parse tweet\n",
      "could not parse tweet\n",
      "could not parse tweet\n",
      "could not parse tweet\n",
      "could not parse tweet\n",
      "could not parse tweet\n",
      "could not parse tweet\n",
      "could not parse tweet\n",
      "could not parse tweet\n",
      "could not parse tweet\n",
      "could not parse tweet\n"
     ]
    },
    {
     "name": "stdout",
     "output_type": "stream",
     "text": [
      "could not parse tweet\n",
      "could not parse tweet\n",
      "could not parse tweet\n",
      "could not parse tweet\n",
      "could not parse tweet\n",
      "could not parse tweet\n",
      "could not parse tweet\n",
      "could not parse tweet\n",
      "could not parse tweet\n",
      "could not parse tweet\n",
      "could not parse tweet\n",
      "could not parse tweet\n",
      "could not parse tweet\n",
      "could not parse tweet\n",
      "could not parse tweet\n",
      "could not parse tweet\n",
      "could not parse tweet\n",
      "could not parse tweet\n",
      "could not parse tweet\n",
      "could not parse tweet\n",
      "could not parse tweet\n",
      "could not parse tweet\n",
      "could not parse tweet\n",
      "could not parse tweet\n",
      "could not parse tweet\n",
      "could not parse tweet\n",
      "could not parse tweet\n",
      "could not parse tweet\n",
      "could not parse tweet\n",
      "could not parse tweet\n",
      "could not parse tweet\n",
      "could not parse tweet\n",
      "could not parse tweet\n",
      "could not parse tweet\n",
      "could not parse tweet\n",
      "could not parse tweet\n",
      "could not parse tweet\n",
      "could not parse tweet\n",
      "could not parse tweet\n",
      "could not parse tweet\n",
      "could not parse tweet\n",
      "could not parse tweet\n",
      "could not parse tweet\n",
      "could not parse tweet\n",
      "could not parse tweet\n",
      "could not parse tweet\n",
      "could not parse tweet\n",
      "could not parse tweet\n",
      "could not parse tweet\n",
      "could not parse tweet\n",
      "could not parse tweet\n",
      "could not parse tweet\n",
      "could not parse tweet\n",
      "could not parse tweet\n",
      "could not parse tweet\n",
      "could not parse tweet\n",
      "could not parse tweet\n",
      "could not parse tweet\n",
      "could not parse tweet\n",
      "could not parse tweet\n",
      "could not parse tweet\n",
      "could not parse tweet\n",
      "could not parse tweet\n",
      "could not parse tweet\n",
      "could not parse tweet\n",
      "could not parse tweet\n",
      "could not parse tweet\n",
      "could not parse tweet\n",
      "could not parse tweet\n",
      "could not parse tweet\n",
      "could not parse tweet\n",
      "could not parse tweet\n",
      "could not parse tweet\n",
      "could not parse tweet\n",
      "could not parse tweet\n",
      "could not parse tweet\n",
      "could not parse tweet\n",
      "could not parse tweet\n",
      "could not parse tweet\n",
      "could not parse tweet\n",
      "could not parse tweet\n",
      "could not parse tweet\n",
      "could not parse tweet\n",
      "could not parse tweet\n",
      "could not parse tweet\n",
      "could not parse tweet\n",
      "could not parse tweet\n",
      "could not parse tweet\n",
      "could not parse tweet\n",
      "could not parse tweet\n",
      "could not parse tweet\n",
      "could not parse tweet\n",
      "could not parse tweet\n",
      "could not parse tweet\n",
      "could not parse tweet\n",
      "could not parse tweet\n",
      "could not parse tweet\n",
      "could not parse tweet\n",
      "could not parse tweet\n",
      "could not parse tweet\n",
      "could not parse tweet\n",
      "could not parse tweet\n",
      "could not parse tweet\n",
      "could not parse tweet\n",
      "could not parse tweet\n",
      "could not parse tweet\n",
      "could not parse tweet\n",
      "could not parse tweet\n",
      "could not parse tweet\n",
      "could not parse tweet\n",
      "could not parse tweet\n",
      "could not parse tweet\n",
      "could not parse tweet\n",
      "could not parse tweet\n",
      "could not parse tweet\n",
      "could not parse tweet\n",
      "could not parse tweet\n",
      "could not parse tweet\n",
      "could not parse tweet\n",
      "could not parse tweet\n",
      "could not parse tweet\n",
      "could not parse tweet\n",
      "could not parse tweet\n",
      "could not parse tweet\n",
      "could not parse tweet\n",
      "could not parse tweet\n",
      "could not parse tweet\n",
      "could not parse tweet\n",
      "could not parse tweet\n",
      "could not parse tweet\n",
      "could not parse tweet\n",
      "could not parse tweet\n",
      "could not parse tweet\n",
      "could not parse tweet\n",
      "could not parse tweet\n",
      "could not parse tweet\n",
      "could not parse tweet\n",
      "could not parse tweet\n",
      "could not parse tweet\n",
      "could not parse tweet\n",
      "could not parse tweet\n",
      "could not parse tweet\n",
      "could not parse tweet\n",
      "could not parse tweet\n",
      "could not parse tweet\n",
      "could not parse tweet\n",
      "could not parse tweet\n",
      "could not parse tweet\n",
      "could not parse tweet\n",
      "could not parse tweet\n",
      "could not parse tweet\n",
      "could not parse tweet\n",
      "could not parse tweet\n",
      "could not parse tweet\n",
      "could not parse tweet\n",
      "could not parse tweet\n",
      "could not parse tweet\n",
      "could not parse tweet\n",
      "could not parse tweet\n",
      "could not parse tweet\n",
      "could not parse tweet\n",
      "could not parse tweet\n",
      "could not parse tweet\n",
      "could not parse tweet\n",
      "could not parse tweet\n",
      "could not parse tweet\n",
      "could not parse tweet\n",
      "could not parse tweet\n",
      "could not parse tweet\n",
      "could not parse tweet\n",
      "could not parse tweet\n",
      "could not parse tweet\n",
      "could not parse tweet\n",
      "could not parse tweet\n",
      "could not parse tweet\n",
      "could not parse tweet\n",
      "could not parse tweet\n",
      "could not parse tweet\n",
      "could not parse tweet\n",
      "could not parse tweet\n",
      "could not parse tweet\n",
      "could not parse tweet\n",
      "could not parse tweet\n",
      "could not parse tweet\n",
      "could not parse tweet\n",
      "could not parse tweet\n",
      "could not parse tweet\n",
      "could not parse tweet\n",
      "could not parse tweet\n",
      "could not parse tweet\n",
      "could not parse tweet\n",
      "could not parse tweet\n",
      "could not parse tweet\n",
      "could not parse tweet\n",
      "could not parse tweet\n",
      "could not parse tweet\n",
      "could not parse tweet\n",
      "could not parse tweet\n",
      "could not parse tweet\n",
      "could not parse tweet\n",
      "could not parse tweet\n",
      "could not parse tweet\n",
      "could not parse tweet\n",
      "could not parse tweet\n",
      "could not parse tweet\n",
      "could not parse tweet\n",
      "could not parse tweet\n",
      "could not parse tweet\n",
      "could not parse tweet\n",
      "could not parse tweet\n",
      "could not parse tweet\n",
      "could not parse tweet\n",
      "could not parse tweet\n",
      "could not parse tweet\n",
      "could not parse tweet\n",
      "could not parse tweet\n",
      "could not parse tweet\n",
      "could not parse tweet\n",
      "could not parse tweet\n",
      "could not parse tweet\n",
      "could not parse tweet\n",
      "could not parse tweet\n",
      "could not parse tweet\n",
      "could not parse tweet\n",
      "could not parse tweet\n",
      "could not parse tweet\n",
      "could not parse tweet\n",
      "could not parse tweet\n",
      "could not parse tweet\n",
      "could not parse tweet\n",
      "could not parse tweet\n",
      "could not parse tweet\n",
      "could not parse tweet\n",
      "could not parse tweet\n",
      "could not parse tweet\n",
      "could not parse tweet\n",
      "could not parse tweet\n",
      "could not parse tweet\n",
      "could not parse tweet\n",
      "could not parse tweet\n",
      "could not parse tweet\n",
      "could not parse tweet\n",
      "could not parse tweet\n",
      "could not parse tweet\n",
      "could not parse tweet\n",
      "could not parse tweet\n",
      "could not parse tweet\n",
      "could not parse tweet\n",
      "could not parse tweet\n",
      "could not parse tweet\n",
      "could not parse tweet\n",
      "could not parse tweet\n",
      "could not parse tweet\n",
      "could not parse tweet\n",
      "could not parse tweet\n",
      "could not parse tweet\n",
      "could not parse tweet\n",
      "could not parse tweet\n",
      "could not parse tweet\n",
      "could not parse tweet\n",
      "could not parse tweet\n",
      "could not parse tweet\n",
      "could not parse tweet\n",
      "could not parse tweet\n",
      "could not parse tweet\n",
      "could not parse tweet\n",
      "could not parse tweet\n",
      "could not parse tweet\n",
      "could not parse tweet\n",
      "could not parse tweet\n",
      "could not parse tweet\n",
      "could not parse tweet\n",
      "could not parse tweet\n",
      "could not parse tweet\n",
      "could not parse tweet\n",
      "could not parse tweet\n",
      "could not parse tweet\n",
      "could not parse tweet\n",
      "could not parse tweet\n",
      "could not parse tweet\n",
      "could not parse tweet\n",
      "could not parse tweet\n",
      "could not parse tweet\n",
      "could not parse tweet\n",
      "could not parse tweet\n",
      "could not parse tweet\n",
      "could not parse tweet\n",
      "could not parse tweet\n",
      "could not parse tweet\n",
      "could not parse tweet\n",
      "could not parse tweet\n",
      "could not parse tweet\n",
      "could not parse tweet\n",
      "could not parse tweet\n",
      "could not parse tweet\n",
      "could not parse tweet\n",
      "could not parse tweet\n",
      "could not parse tweet\n",
      "could not parse tweet\n",
      "could not parse tweet\n",
      "could not parse tweet\n",
      "could not parse tweet\n",
      "could not parse tweet\n",
      "could not parse tweet\n",
      "could not parse tweet\n",
      "could not parse tweet\n",
      "could not parse tweet\n",
      "could not parse tweet\n",
      "could not parse tweet\n",
      "could not parse tweet\n",
      "could not parse tweet\n",
      "could not parse tweet\n",
      "could not parse tweet\n",
      "could not parse tweet\n",
      "could not parse tweet\n",
      "could not parse tweet\n",
      "could not parse tweet\n",
      "could not parse tweet\n",
      "could not parse tweet\n",
      "could not parse tweet\n",
      "could not parse tweet\n",
      "could not parse tweet\n",
      "could not parse tweet\n",
      "could not parse tweet\n",
      "could not parse tweet\n",
      "could not parse tweet\n",
      "could not parse tweet\n",
      "could not parse tweet\n",
      "could not parse tweet\n",
      "could not parse tweet\n",
      "could not parse tweet\n",
      "could not parse tweet\n",
      "could not parse tweet\n",
      "could not parse tweet\n",
      "could not parse tweet\n",
      "could not parse tweet\n",
      "could not parse tweet\n",
      "could not parse tweet\n",
      "could not parse tweet\n",
      "could not parse tweet\n",
      "could not parse tweet\n",
      "16799\n"
     ]
    }
   ],
   "source": [
    "import csv\n",
    "import os.path\n",
    "from io import StringIO \n",
    "\n",
    "delimiter = ';'\n",
    "\n",
    "#the file of collected tweets that you want to get the counts for:\n",
    "filenames = ['collected_tweetsdagnegen_updated3.csv','collected_tweetsdagdertien_updated.csv','collected_tweetsdagzestien_updated.csv', 'collected_tweetsdagzeventien_updated.csv', 'collected_tweetsdagachttien_updated.csv','collected_tweetsdagtwintig_updated.csv', 'collected_tweetsdageenentwintig_updated.csv']   #change the filename here \n",
    "\n",
    "unclassified_filenames = ['combined_updated_tweets1.csv']\n",
    "result_filename = 'classifiedVacancies.csv'\n",
    "\n",
    "col_Text = 3\n",
    "\n",
    "total_n_tweets = 0\n",
    "line_count = 0\n",
    "\n",
    "with open (result_filename,'w', encoding='utf-8') as outfile:\n",
    "    wtr = csv.writer(outfile, delimiter=';')\n",
    "    #wtr.writerow(['Date','Place_Name','Place_Bounding_Box','Text', 'Tweet_Id', 'IsReplyTo_ID','IsReplyTo_Text', 'Hashtags','Urls','Media','User_Screen_Name', 'User_Id', 'User_Followers_Count', 'Checked_Status_At','Retweets_Count','Favourites_Count', 'Labeled_Vacancy', 'Predicted_Vacancy']) #this is the document header\n",
    "    wtr.writerow(['Date','Place_Name','Place_Bounding_Box','Text', 'Tweet_Id', 'IsReplyTo_ID','IsReplyTo_Text', 'Hashtags','Urls','Media','User_Screen_Name', 'User_Id', 'User_Followers_Count', 'Checked_Status_At','Retweets_Count','Favourites_Count', 'Labeled_Vacancy', 'Predicted_Vacancy'])  \n",
    "        \n",
    "    for filename in unclassified_filenames:\n",
    "            with open(filename, mode='r', encoding='utf-8') as csv_file:\n",
    "                \n",
    "                csv_reader = csv.reader(csv_file, delimiter=delimiter)\n",
    "                for tweet in csv_reader:\n",
    "                    \n",
    "                    if (tweet and tweet[0] and line_count > 0):\n",
    "                        try:\n",
    "                            tweetWrap = StringIO(tweet[col_Text])  \n",
    "                            df = pd.read_csv(tweetWrap, sep =\";\") \n",
    "                            tweet_as_vector = tfidf.transform(df).toarray()\n",
    "                            predicted_class = model.predict(tweet_as_vector)[0]\n",
    "                            \n",
    "                            #print(tweet[col_Text])\n",
    "                            #print(predicted_class )\n",
    "                            #print('*****')\n",
    "                        \n",
    "                            if (predicted_class == 1):\n",
    "                                total_n_tweets = total_n_tweets + 1\n",
    "                                wtr.writerow(tweet)\n",
    "                        except:\n",
    "                            print('could not parse tweet')\n",
    "                    line_count = line_count + 1\n",
    "                    \n",
    "print(total_n_tweets)"
   ]
  },
  {
   "cell_type": "markdown",
   "metadata": {},
   "source": [
    "## Statistical Analysis on Resulting Data"
   ]
  },
  {
   "cell_type": "code",
   "execution_count": 90,
   "metadata": {},
   "outputs": [],
   "source": [
    "vacancies_dataset = pd.read_csv('classifiedVacancies.csv', delimiter = ';', skiprows = 0, nrows=16800)\n",
    "\n",
    "\n",
    "#print(vacancies_dataset['Urls'])\n",
    "#print(vacancies_dataset['Media'])\n",
    "#print(vacancies_dataset['User_Followers_Count'])\n",
    "#print(vacancies_dataset['Retweets_Count'])\n",
    "#print(vacancies_dataset['Favourites_Count'])\n",
    "\n",
    "\n",
    "\n",
    "\n"
   ]
  },
  {
   "cell_type": "code",
   "execution_count": 81,
   "metadata": {},
   "outputs": [],
   "source": [
    "for idx in range(vacancies_dataset.shape[0]):\n",
    "    if isinstance(vacancies_dataset['Urls'][idx], float):\n",
    "        vacancies_dataset.set_value(idx, 'Urls', 'no')\n",
    "    else:\n",
    "        vacancies_dataset.set_value(idx, 'Urls', 'yes')\n"
   ]
  },
  {
   "cell_type": "code",
   "execution_count": 150,
   "metadata": {},
   "outputs": [
    {
     "name": "stdout",
     "output_type": "stream",
     "text": [
      "\n",
      "\n"
     ]
    },
    {
     "data": {
      "text/html": [
       "<div>\n",
       "<style>\n",
       "    .dataframe thead tr:only-child th {\n",
       "        text-align: right;\n",
       "    }\n",
       "\n",
       "    .dataframe thead th {\n",
       "        text-align: left;\n",
       "    }\n",
       "\n",
       "    .dataframe tbody tr th {\n",
       "        vertical-align: top;\n",
       "    }\n",
       "</style>\n",
       "<table border=\"1\" class=\"dataframe\">\n",
       "  <thead>\n",
       "    <tr style=\"text-align: right;\">\n",
       "      <th></th>\n",
       "      <th>N</th>\n",
       "      <th>Mean</th>\n",
       "      <th>SD</th>\n",
       "      <th>SE</th>\n",
       "      <th>95% Conf.</th>\n",
       "      <th>Interval</th>\n",
       "    </tr>\n",
       "    <tr>\n",
       "      <th>Media</th>\n",
       "      <th></th>\n",
       "      <th></th>\n",
       "      <th></th>\n",
       "      <th></th>\n",
       "      <th></th>\n",
       "      <th></th>\n",
       "    </tr>\n",
       "  </thead>\n",
       "  <tbody>\n",
       "    <tr>\n",
       "      <th>no</th>\n",
       "      <td>15192</td>\n",
       "      <td>1.923315</td>\n",
       "      <td>22.601352</td>\n",
       "      <td>0.183369</td>\n",
       "      <td>1.563899</td>\n",
       "      <td>2.282731</td>\n",
       "    </tr>\n",
       "    <tr>\n",
       "      <th>yes</th>\n",
       "      <td>1607</td>\n",
       "      <td>10.770380</td>\n",
       "      <td>187.323194</td>\n",
       "      <td>4.672869</td>\n",
       "      <td>1.608705</td>\n",
       "      <td>19.932054</td>\n",
       "    </tr>\n",
       "  </tbody>\n",
       "</table>\n",
       "</div>"
      ],
      "text/plain": [
       "           N       Mean          SD        SE  95% Conf.   Interval\n",
       "Media                                                              \n",
       "no     15192   1.923315   22.601352  0.183369   1.563899   2.282731\n",
       "yes     1607  10.770380  187.323194  4.672869   1.608705  19.932054"
      ]
     },
     "execution_count": 150,
     "metadata": {},
     "output_type": "execute_result"
    }
   ],
   "source": [
    "rp.summary_cont(vacancies_dataset['Favourites_Count'].groupby(vacancies_dataset['Media']))"
   ]
  },
  {
   "cell_type": "code",
   "execution_count": 155,
   "metadata": {},
   "outputs": [
    {
     "name": "stdout",
     "output_type": "stream",
     "text": [
      "(15190, 18)\n",
      "(1605, 18)\n"
     ]
    }
   ],
   "source": [
    "no_media = vacancies_dataset.loc[(vacancies_dataset['Media'] == 'no') &  (vacancies_dataset['Retweets_Count'] < 200)]\n",
    "media = vacancies_dataset.loc[(vacancies_dataset['Media'] == 'yes') & (vacancies_dataset['Retweets_Count'] < 200)]\n",
    "\n",
    "\n",
    "print(no_media.shape)\n",
    "print(media.shape)"
   ]
  },
  {
   "cell_type": "markdown",
   "metadata": {},
   "source": [
    "# media vs retweets"
   ]
  },
  {
   "cell_type": "code",
   "execution_count": 156,
   "metadata": {},
   "outputs": [
    {
     "name": "stdout",
     "output_type": "stream",
     "text": [
      "0.9538940809968848\n"
     ]
    },
    {
     "data": {
      "text/plain": [
       "Text(0,0.5,'Number of vacancies (without media)')"
      ]
     },
     "execution_count": 156,
     "metadata": {},
     "output_type": "execute_result"
    },
    {
     "data": {
      "image/png": "[encoded data removed]",
      "text/plain": [
       "<matplotlib.figure.Figure at 0x120aad2e8>"
      ]
     },
     "metadata": {
      "needs_background": "light"
     },
     "output_type": "display_data"
    }
   ],
   "source": [
    "# Downsample majority class\n",
    "downsampled_no_media = resample(no_media, \n",
    "                       replace=False,    # sample without replacement\n",
    "                       n_samples=media.shape[0]) # reproducible results\n",
    "\n",
    "\n",
    "print(np.mean(downsampled_no_media['Retweets_Count']))\n",
    "\n",
    "plt.hist(downsampled_no_media['Retweets_Count'], bins=20)\n",
    "plt.title('Distribution of retweet count, vacancies without media ')\n",
    "plt.xlabel('Retweet count')\n",
    "plt.ylabel('Number of vacancies (without media)')\n",
    "\n",
    "\n",
    "\n"
   ]
  },
  {
   "cell_type": "code",
   "execution_count": 147,
   "metadata": {},
   "outputs": [
    {
     "name": "stdout",
     "output_type": "stream",
     "text": [
      "0.45226130653266333\n"
     ]
    },
    {
     "data": {
      "text/plain": [
       "Text(0,0.5,'Number of vacancies (with media)')"
      ]
     },
     "execution_count": 147,
     "metadata": {},
     "output_type": "execute_result"
    },
    {
     "data": {
      "image/png": "[encoded data removed]",
      "text/plain": [
       "<matplotlib.figure.Figure at 0x11f76b860>"
      ]
     },
     "metadata": {
      "needs_background": "light"
     },
     "output_type": "display_data"
    }
   ],
   "source": [
    "print(np.mean(media['Retweets_Count']))\n",
    "plt.hist(media['Retweets_Count'], bins=20)\n",
    "plt.title('Distribution of retweet count, vacancies with media ')\n",
    "plt.xlabel('Retweet count')\n",
    "plt.ylabel('Number of vacancies (with media)')\n"
   ]
  },
  {
   "cell_type": "code",
   "execution_count": 110,
   "metadata": {},
   "outputs": [
    {
     "data": {
      "text/plain": [
       "[(0, 5)]"
      ]
     },
     "execution_count": 110,
     "metadata": {},
     "output_type": "execute_result"
    },
    {
     "data": {
      "image/png": "[encoded data removed]",
      "text/plain": [
       "<matplotlib.figure.Figure at 0x11f5a2208>"
      ]
     },
     "metadata": {
      "needs_background": "light"
     },
     "output_type": "display_data"
    }
   ],
   "source": [
    "ax = sns.boxplot(x='Media', y='Retweets_Count', data=vacancies_dataset)\n",
    "ax.set(ylim=(0, 5))"
   ]
  },
  {
   "cell_type": "code",
   "execution_count": 145,
   "metadata": {},
   "outputs": [
    {
     "name": "stdout",
     "output_type": "stream",
     "text": [
      "Statistics = 1293370.500, p = 0.054\n",
      "Same distribution (fail to reject H0)\n"
     ]
    }
   ],
   "source": [
    "stat, p = stats.mannwhitneyu(media['Retweets_Count'],downsampled_no_media['Retweets_Count'], alternative = 'greater')\n",
    "print('Statistics = %.3f, p = %.3f' % (stat, p))\n",
    "# interpret\n",
    "alpha = 0.01\n",
    "if p > alpha:\n",
    "    print('Same distribution (fail to reject H0)')\n",
    "else:\n",
    "    print('Different distribution (reject H0)')"
   ]
  },
  {
   "cell_type": "markdown",
   "metadata": {},
   "source": [
    "# media vs favourites"
   ]
  },
  {
   "cell_type": "code",
   "execution_count": 164,
   "metadata": {},
   "outputs": [
    {
     "name": "stdout",
     "output_type": "stream",
     "text": [
      "3.1769470404984426\n"
     ]
    },
    {
     "data": {
      "image/png": "[encoded data removed]",
      "text/plain": [
       "<matplotlib.figure.Figure at 0x122e46588>"
      ]
     },
     "metadata": {
      "needs_background": "light"
     },
     "output_type": "display_data"
    }
   ],
   "source": [
    "plt.hist(downsampled_no_media['Favourites_Count'], bins=20, range=(0, 50))\n",
    "plt.title('Distribution of favourites count, vacancies without media ')\n",
    "plt.xlabel('Favourites count')\n",
    "plt.ylabel('Number of vacancies (without media)')\n",
    "\n",
    "print(np.mean(downsampled_no_media['Favourites_Count']))\n"
   ]
  },
  {
   "cell_type": "code",
   "execution_count": 165,
   "metadata": {},
   "outputs": [
    {
     "name": "stdout",
     "output_type": "stream",
     "text": [
      "5.268535825545172\n"
     ]
    },
    {
     "data": {
      "image/png": "[encoded data removed]",
      "text/plain": [
       "<matplotlib.figure.Figure at 0x12309aba8>"
      ]
     },
     "metadata": {
      "needs_background": "light"
     },
     "output_type": "display_data"
    }
   ],
   "source": [
    "plt.hist(media['Favourites_Count'], bins=20, range=(0, 50))\n",
    "plt.title('Distribution of favourites count, vacancies with media')\n",
    "plt.xlabel('Favourites count')\n",
    "plt.ylabel('Number of vacancies (with media)')\n",
    "\n",
    "print(np.mean(media['Favourites_Count']))\n"
   ]
  },
  {
   "cell_type": "code",
   "execution_count": 160,
   "metadata": {},
   "outputs": [
    {
     "data": {
      "text/plain": [
       "[(0, 5)]"
      ]
     },
     "execution_count": 160,
     "metadata": {},
     "output_type": "execute_result"
    },
    {
     "data": {
      "image/png": "[encoded data removed]",
      "text/plain": [
       "<matplotlib.figure.Figure at 0x122790ac8>"
      ]
     },
     "metadata": {
      "needs_background": "light"
     },
     "output_type": "display_data"
    }
   ],
   "source": [
    "ax = sns.boxplot(x='Media', y='Favourites_Count', data=vacancies_dataset)\n",
    "ax.set(ylim=(0, 5))"
   ]
  },
  {
   "cell_type": "code",
   "execution_count": 169,
   "metadata": {},
   "outputs": [
    {
     "name": "stdout",
     "output_type": "stream",
     "text": [
      "Statistics = 1490823.5000, p = 0.0000\n",
      "reject H0\n"
     ]
    }
   ],
   "source": [
    "stat, p = stats.mannwhitneyu(media['Favourites_Count'], downsampled_no_media['Favourites_Count'], alternative = 'greater')\n",
    "print('Statistics = %.4f, p = %.4f' % (stat, p))\n",
    "# interpret\n",
    "alpha = 0.05\n",
    "if p > alpha:\n",
    "    print('Same distribution (fail to reject H0)')\n",
    "else:\n",
    "    print('reject H0')"
   ]
  },
  {
   "cell_type": "code",
   "execution_count": null,
   "metadata": {},
   "outputs": [],
   "source": []
  },
  {
   "cell_type": "code",
   "execution_count": null,
   "metadata": {},
   "outputs": [],
   "source": []
  }
 ],
 "metadata": {
  "kernelspec": {
   "display_name": "Python 3",
   "language": "python",
   "name": "python3"
  },
  "language_info": {
   "codemirror_mode": {
    "name": "ipython",
    "version": 3
   },
   "file_extension": ".py",
   "mimetype": "text/x-python",
   "name": "python",
   "nbconvert_exporter": "python",
   "pygments_lexer": "ipython3",
   "version": "3.6.3"
  }
 },
 "nbformat": 4,
 "nbformat_minor": 2
}
