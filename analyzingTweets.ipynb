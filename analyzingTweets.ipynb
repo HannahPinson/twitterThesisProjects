{
 "cells": [
  {
   "cell_type": "markdown",
   "metadata": {},
   "source": [
    "# Twitter Thesis Project: Analyzing tweets "
   ]
  },
  {
   "cell_type": "markdown",
   "metadata": {},
   "source": [
    "## Label your tweets (this is a manual step!)\n",
    "\n",
    "\n",
    "In order to teach the computer how to classify the tweets automatically, we have to feed the program a lot of tweets together with the class they belong to. These example tweets have to be 'labeled' (given a label that indicates which class they belong to) by someone who can tell the correct class simply from reading the tweet (you). \n",
    "\n",
    "These are the steps you can take to prepare your tweet dataset for classification:\n",
    "\n",
    "- decide on the classes you want to use. \n",
    "- number these classes from 0 to the number of classes you have - 1. E.g., if you have 4 classes, you need to use the labels 0,1,2,3. \n",
    "- add a column to your dataset (or safer: create a copy of your dataset and add a new column there) where you add the correct label for each of your tweets. To start, try to label at least 100 tweets for each class. It will become clear later on if the classifier needs more examples to learn from. \n",
    "\n",
    "**Example: tweets with the keyword 'brussel'**\n",
    "\n",
    "As an example application, we have collected (through streaming) a number of tweets which contain the keyword 'brussel'. Since the keyword is Dutch, most of the collected tweets are also in Dutch. We would like to train a classifier that automically determines whether a new tweet belongs to one of the following classes: mobility (0), politics or opinion on politics (1), brussels sprouts (2), other (3). We have changed the original file of collected tweets by adding a column with the correct labels. Examples of each class include:\n",
    "\n",
    "*De trein tussen Brussel en Mechelen, eender welke, da's toch echt roulette spelen: welke komt met het minste vertra… https://t.co/wJ4uXA906d* **(label: 0)**\n",
    "\n",
    "*@peeters_kris1 @Europarl_NL Mijnheer Peeters, hieronder het nefaste resultaat van de Europese immigratiepolitiek. D… https://t.co/Ia92qNOMcQ* **(label: 1)**\n",
    "\n",
    "*@GavinWren Tamales\n",
    "Brussel Sprouts\n",
    "Lemons* **(label: 2)**\n",
    "\n",
    "*#Reminder | Over slechts twee dagen vindt de vierde editie van de Mansholtlezing in Brussel plaats over de eiwittra… https://t.co/XJTRGfZhZ* **(label: 3)**\n",
    "\n",
    "\n",
    "\n"
   ]
  },
  {
   "cell_type": "markdown",
   "metadata": {},
   "source": [
    "## Load all the additional libraries and tools we will use"
   ]
  },
  {
   "cell_type": "code",
   "execution_count": 1,
   "metadata": {},
   "outputs": [
    {
     "name": "stderr",
     "output_type": "stream",
     "text": [
      "/Library/Frameworks/Python.framework/Versions/3.6/lib/python3.6/site-packages/sklearn/ensemble/weight_boosting.py:29: DeprecationWarning: numpy.core.umath_tests is an internal NumPy module and should not be imported. It will be removed in a future NumPy release.\n",
      "  from numpy.core.umath_tests import inner1d\n"
     ]
    }
   ],
   "source": [
    "import pandas as pd #this is a datascience library that we will use to load and preprocess the tweets\n",
    "import matplotlib.pyplot as plt #this is a plotting library that we will use to make graphs\n",
    "from sklearn.feature_extraction.text import TfidfVectorizer #this is a machine learning tool we will use to find a mathematical representation of the tweets\n",
    "from sklearn.feature_selection import chi2\n",
    "\n",
    "from sklearn.utils import resample\n",
    "\n",
    "from sklearn.linear_model import LogisticRegression\n",
    "from sklearn.ensemble import RandomForestClassifier\n",
    "from sklearn.svm import LinearSVC\n",
    "from sklearn.model_selection import cross_val_score\n",
    "from sklearn.model_selection import train_test_split\n",
    "from sklearn.metrics import confusion_matrix\n",
    "\n",
    "import numpy as np"
   ]
  },
  {
   "cell_type": "markdown",
   "metadata": {},
   "source": [
    "## Load the tweets you previously collected and annotated"
   ]
  },
  {
   "cell_type": "markdown",
   "metadata": {},
   "source": [
    "### Load the annotated tweets"
   ]
  },
  {
   "cell_type": "code",
   "execution_count": 84,
   "metadata": {},
   "outputs": [
    {
     "data": {
      "text/html": [
       "<div>\n",
       "<style>\n",
       "    .dataframe thead tr:only-child th {\n",
       "        text-align: right;\n",
       "    }\n",
       "\n",
       "    .dataframe thead th {\n",
       "        text-align: left;\n",
       "    }\n",
       "\n",
       "    .dataframe tbody tr th {\n",
       "        vertical-align: top;\n",
       "    }\n",
       "</style>\n",
       "<table border=\"1\" class=\"dataframe\">\n",
       "  <thead>\n",
       "    <tr style=\"text-align: right;\">\n",
       "      <th></th>\n",
       "      <th>Date</th>\n",
       "      <th>Place_Name</th>\n",
       "      <th>Place_Bounding_Box</th>\n",
       "      <th>Text</th>\n",
       "      <th>Tweet_Id</th>\n",
       "      <th>IsReplyTo_ID</th>\n",
       "      <th>IsReplyTo_Text</th>\n",
       "      <th>Hashtags</th>\n",
       "      <th>Urls</th>\n",
       "      <th>Media</th>\n",
       "      <th>User_Screen_Name</th>\n",
       "      <th>User_Id</th>\n",
       "      <th>User_Followers_Count</th>\n",
       "      <th>Checked_Status_At</th>\n",
       "      <th>Retweets_Count</th>\n",
       "      <th>Favourites_Count</th>\n",
       "      <th>Labeled_Vacancy</th>\n",
       "      <th>Predicted_Vacancy</th>\n",
       "    </tr>\n",
       "  </thead>\n",
       "  <tbody>\n",
       "    <tr>\n",
       "      <th>0</th>\n",
       "      <td>Fri Dec 27 15:13:37 +0000 2019</td>\n",
       "      <td>NaN</td>\n",
       "      <td>NaN</td>\n",
       "      <td>@JoeBiden 700K able bodied single adults that ...</td>\n",
       "      <td>1210579495037677568</td>\n",
       "      <td>1.210261e+18</td>\n",
       "      <td>Donald Trump is cutting food assistance for 70...</td>\n",
       "      <td>NaN</td>\n",
       "      <td>, https://t.co/RVyB56FISy</td>\n",
       "      <td>no</td>\n",
       "      <td>JoeSmit44853256</td>\n",
       "      <td>1180822916348497920</td>\n",
       "      <td>1179</td>\n",
       "      <td>2020-01-10 13:21:40.206939</td>\n",
       "      <td>0</td>\n",
       "      <td>1</td>\n",
       "      <td>0</td>\n",
       "      <td>NaN</td>\n",
       "    </tr>\n",
       "    <tr>\n",
       "      <th>1</th>\n",
       "      <td>Fri Dec 27 15:13:37 +0000 2019</td>\n",
       "      <td>NaN</td>\n",
       "      <td>NaN</td>\n",
       "      <td>@bts_bighit Good job ma boys💜💜😍I enjoyed your ...</td>\n",
       "      <td>1210579495524024321</td>\n",
       "      <td>1.210575e+18</td>\n",
       "      <td>[#오늘의방탄] 2019 KBS 가요대축제🕺🏻\\nARMY maketh BTS🌂\\n파...</td>\n",
       "      <td>NaN</td>\n",
       "      <td>NaN</td>\n",
       "      <td>no</td>\n",
       "      <td>JyselManantan</td>\n",
       "      <td>984970537569894400</td>\n",
       "      <td>11</td>\n",
       "      <td>2020-01-10 13:21:40.206939</td>\n",
       "      <td>0</td>\n",
       "      <td>0</td>\n",
       "      <td>0</td>\n",
       "      <td>NaN</td>\n",
       "    </tr>\n",
       "    <tr>\n",
       "      <th>2</th>\n",
       "      <td>Fri Dec 27 15:13:37 +0000 2019</td>\n",
       "      <td>NaN</td>\n",
       "      <td>NaN</td>\n",
       "      <td>@TurkeyFarmersCa @kathryndoan Do you have inte...</td>\n",
       "      <td>1210579495834529793</td>\n",
       "      <td>1.199757e+18</td>\n",
       "      <td>Happy #Thanksgiving tomorrow to our all our fr...</td>\n",
       "      <td>NaN</td>\n",
       "      <td>NaN</td>\n",
       "      <td>no</td>\n",
       "      <td>mostafaelsanta</td>\n",
       "      <td>933392932996108288</td>\n",
       "      <td>40</td>\n",
       "      <td>2020-01-10 13:21:40.206939</td>\n",
       "      <td>0</td>\n",
       "      <td>0</td>\n",
       "      <td>0</td>\n",
       "      <td>NaN</td>\n",
       "    </tr>\n",
       "    <tr>\n",
       "      <th>3</th>\n",
       "      <td>Fri Dec 27 15:13:37 +0000 2019</td>\n",
       "      <td>NaN</td>\n",
       "      <td>NaN</td>\n",
       "      <td>@JoeBuscaglia I wouldn’t be upset if Daboll to...</td>\n",
       "      <td>1210579495842983939</td>\n",
       "      <td>1.210362e+18</td>\n",
       "      <td>Both Brian Daboll and Leslie Frazier listed he...</td>\n",
       "      <td>NaN</td>\n",
       "      <td>NaN</td>\n",
       "      <td>no</td>\n",
       "      <td>CoryEberwein</td>\n",
       "      <td>1079946138940252165</td>\n",
       "      <td>0</td>\n",
       "      <td>2020-01-10 13:21:40.206939</td>\n",
       "      <td>0</td>\n",
       "      <td>1</td>\n",
       "      <td>0</td>\n",
       "      <td>NaN</td>\n",
       "    </tr>\n",
       "    <tr>\n",
       "      <th>4</th>\n",
       "      <td>Fri Dec 27 15:13:37 +0000 2019</td>\n",
       "      <td>NaN</td>\n",
       "      <td>NaN</td>\n",
       "      <td>@TXT_members BUT THANK YOU FOR TODAY TAEHYUN y...</td>\n",
       "      <td>1210579495813431298</td>\n",
       "      <td>1.210578e+18</td>\n",
       "      <td>가슴이 말해준다 누가 뭐래도 모안 너무 예뻐\\n#태현 #Taehyun https:/...</td>\n",
       "      <td>NaN</td>\n",
       "      <td>, https://t.co/s5UlF6Bnnz</td>\n",
       "      <td>no</td>\n",
       "      <td>oesophagustd</td>\n",
       "      <td>1196050020476182528</td>\n",
       "      <td>101</td>\n",
       "      <td>2020-01-10 13:21:40.206939</td>\n",
       "      <td>0</td>\n",
       "      <td>0</td>\n",
       "      <td>0</td>\n",
       "      <td>NaN</td>\n",
       "    </tr>\n",
       "  </tbody>\n",
       "</table>\n",
       "</div>"
      ],
      "text/plain": [
       "                             Date Place_Name Place_Bounding_Box  \\\n",
       "0  Fri Dec 27 15:13:37 +0000 2019        NaN                NaN   \n",
       "1  Fri Dec 27 15:13:37 +0000 2019        NaN                NaN   \n",
       "2  Fri Dec 27 15:13:37 +0000 2019        NaN                NaN   \n",
       "3  Fri Dec 27 15:13:37 +0000 2019        NaN                NaN   \n",
       "4  Fri Dec 27 15:13:37 +0000 2019        NaN                NaN   \n",
       "\n",
       "                                                Text             Tweet_Id  \\\n",
       "0  @JoeBiden 700K able bodied single adults that ...  1210579495037677568   \n",
       "1  @bts_bighit Good job ma boys💜💜😍I enjoyed your ...  1210579495524024321   \n",
       "2  @TurkeyFarmersCa @kathryndoan Do you have inte...  1210579495834529793   \n",
       "3  @JoeBuscaglia I wouldn’t be upset if Daboll to...  1210579495842983939   \n",
       "4  @TXT_members BUT THANK YOU FOR TODAY TAEHYUN y...  1210579495813431298   \n",
       "\n",
       "   IsReplyTo_ID                                     IsReplyTo_Text Hashtags  \\\n",
       "0  1.210261e+18  Donald Trump is cutting food assistance for 70...      NaN   \n",
       "1  1.210575e+18  [#오늘의방탄] 2019 KBS 가요대축제🕺🏻\\nARMY maketh BTS🌂\\n파...      NaN   \n",
       "2  1.199757e+18  Happy #Thanksgiving tomorrow to our all our fr...      NaN   \n",
       "3  1.210362e+18  Both Brian Daboll and Leslie Frazier listed he...      NaN   \n",
       "4  1.210578e+18  가슴이 말해준다 누가 뭐래도 모안 너무 예뻐\\n#태현 #Taehyun https:/...      NaN   \n",
       "\n",
       "                        Urls Media User_Screen_Name              User_Id  \\\n",
       "0  , https://t.co/RVyB56FISy    no  JoeSmit44853256  1180822916348497920   \n",
       "1                        NaN    no    JyselManantan   984970537569894400   \n",
       "2                        NaN    no   mostafaelsanta   933392932996108288   \n",
       "3                        NaN    no     CoryEberwein  1079946138940252165   \n",
       "4  , https://t.co/s5UlF6Bnnz    no     oesophagustd  1196050020476182528   \n",
       "\n",
       "   User_Followers_Count           Checked_Status_At  Retweets_Count  \\\n",
       "0                  1179  2020-01-10 13:21:40.206939               0   \n",
       "1                    11  2020-01-10 13:21:40.206939               0   \n",
       "2                    40  2020-01-10 13:21:40.206939               0   \n",
       "3                     0  2020-01-10 13:21:40.206939               0   \n",
       "4                   101  2020-01-10 13:21:40.206939               0   \n",
       "\n",
       "   Favourites_Count  Labeled_Vacancy  Predicted_Vacancy  \n",
       "0                 1                0                NaN  \n",
       "1                 0                0                NaN  \n",
       "2                 0                0                NaN  \n",
       "3                 1                0                NaN  \n",
       "4                 0                0                NaN  "
      ]
     },
     "execution_count": 84,
     "metadata": {},
     "output_type": "execute_result"
    }
   ],
   "source": [
    "tweet_dataset = pd.read_csv('combined_updated_labeled_tweets.csv', delimiter = ';', skiprows = 0) #you can change the name of the file you want to load here\n",
    "\n",
    "tweet_dataset = tweet_dataset\n",
    "tweet_dataset.Labeled_Vacancy = tweet_dataset.Labeled_Vacancy.astype(int) #to make sure the labels are correclty read as integer values\n",
    "tweet_dataset.Label = tweet_dataset.Labeled_Vacancy\n",
    "tweet_dataset.head() #this will show the top lines in your dataset\n"
   ]
  },
  {
   "cell_type": "markdown",
   "metadata": {},
   "source": [
    "### Make a graph of how many tweets per category you have"
   ]
  },
  {
   "cell_type": "code",
   "execution_count": 85,
   "metadata": {},
   "outputs": [
    {
     "data": {
      "image/png": "[encoded data removed]",
      "text/plain": [
       "<matplotlib.figure.Figure at 0x11abd85f8>"
      ]
     },
     "metadata": {
      "needs_background": "light"
     },
     "output_type": "display_data"
    }
   ],
   "source": [
    "fig = plt.figure(figsize=(8,6))\n",
    "tweet_dataset.groupby('Labeled_Vacancy').Text.count().plot.bar(ylim=0)\n",
    "plt.show()"
   ]
  },
  {
   "cell_type": "code",
   "execution_count": 78,
   "metadata": {},
   "outputs": [
    {
     "data": {
      "image/png": "[encoded data removed]",
      "text/plain": [
       "<matplotlib.figure.Figure at 0x11df31160>"
      ]
     },
     "metadata": {
      "needs_background": "light"
     },
     "output_type": "display_data"
    },
    {
     "name": "stdout",
     "output_type": "stream",
     "text": [
      "33     Join the Enterprise Holdings team! See our lat...\n",
      "34     Can you recommend anyone for these 95 #Healthc...\n",
      "35     Interested in a job in #Mississauga, ON? This ...\n",
      "41     Pest Control Technical Inspector / Fiel… job a...\n",
      "46     Fresno CA USA - Regional Marketing Manager - W...\n",
      "47     #Customer #Support #Applications #Senior #Engi...\n",
      "48     Banking jobs latest upcoming bank exam vacancy...\n",
      "69               Another nut job https://t.co/D1BdUkNZKa\n",
      "83     We have 28 jobs open today at Kelly Services, ...\n",
      "84     This Business job might be a great fit for you...\n",
      "88     Align Technology is looking for: Territory Man...\n",
      "133    The application window is OPEN! Click here to ...\n",
      "141    Jobs - Nursing Schools &amp; Allied Health Pro...\n",
      "144    Now hiring for 34 job opportunities at Waste M...\n",
      "145    #StokeJobs Workshop Manager: Ashtead Plant Hir...\n",
      "146    Now hiring for 27 #Banking job opportunities i...\n",
      "150    #StokeJobs Sales Manager - Franchise: https://...\n",
      "151    Looking for a #SalonCareer in Boca Raton, FL? ...\n",
      "154    #StokeJobs Maintenance Engineer: Pioneer Selec...\n",
      "160    Ireland Jobs: Telematics Engineer / Auto Elect...\n",
      "170    Class 1 Night Driver job at Driver Hire Halifa...\n",
      "174    Very awesome job alert 🚨 Freedom House is hiri...\n",
      "178    Oscar is looking for a Data Scientist, Researc...\n",
      "185    Hiring: North America Advisory Services \\ Trai...\n",
      "186    Data Scientist job at Harnham US - New York, N...\n",
      "235    Interested in a job in #Omaha, NE? This could ...\n",
      "252    Sales Manager Density &amp; Viscosity Instr… j...\n",
      "263    We have just posted a new job on https://t.co/...\n",
      "270    Nervous to apply for a job like \"Experienced H...\n",
      "273    Urgent hiring:\\n\\nCustomer Service Representat...\n",
      "277    Join the Baylor College of Medicine team! See ...\n",
      "283    Want to work at MarineMax? We're hiring in #Be...\n",
      "284    Clinical Nurse Specialist - Neuroscience job a...\n",
      "286    AFP Ottawa Job advertisement - Director, Phila...\n",
      "301    BPI is looking to hire a Certification Directo...\n",
      "302    Deadline is January 10th! Come be part of our ...\n",
      "308    ✈ Hiring: Opportunities for Customer Ser\\n#ACF...\n",
      "332    Can you recommend anyone for this job? Social ...\n",
      "339    New job posted! RT https://t.co/8TF1ieB12P Tel...\n",
      "341    Construction General Labor in Seattle, WA: for...\n",
      "356    New #job Casual Stocktaker in East Kilbride. F...\n",
      "367    Men's Engagement Program Assistant Vacancy at ...\n",
      "371    Men's Engagement Program Assistant Vacancy at ...\n",
      "378    LPN job at Samaritan Health - Watertown, NY ht...\n",
      "396    NTS Job Alert: Supreme Court of Pakistan (Situ...\n",
      "399    Satellite Office is looking for: Customer Serv...\n",
      "430    Job opportunity at Silicon Infotech, Indore ht...\n",
      "Name: Text, dtype: object\n"
     ]
    }
   ],
   "source": [
    "# Separate majority and minority classes\n",
    "df = tweet_dataset; \n",
    "df_majority = df[df.Labeled_Vacancy==0]\n",
    "df_minority = df[df.Labeled_Vacancy==1]\n",
    "#df_minority = pd.concat([df[df.Label==0],df[df.Label==1],df[df.Label==2]])\n",
    " \n",
    "# Downsample majority class\n",
    "df_majority_downsampled = resample(df_majority, \n",
    "                                 replace=False,    # sample without replacement\n",
    "                                 n_samples=50,     # to match minority class\n",
    "                                 random_state=123) # reproducible results\n",
    " \n",
    "# Combine minority class with downsampled majority class\n",
    "df_downsampled = pd.concat([df_majority_downsampled, df_minority])\n",
    " \n",
    "    \n",
    "    \n",
    "\n",
    "tweet_dataset = df_downsampled;\n",
    "tweet_dataset.groupby('Labeled_Vacancy').Text.count().plot.bar(ylim=0)\n",
    "plt.show()\n",
    "\n",
    "\n",
    "print(tweet_dataset[tweet_dataset.Labeled_Vacancy == 1].Text)\n",
    "\n"
   ]
  },
  {
   "cell_type": "markdown",
   "metadata": {},
   "source": [
    "## Convert the tweet texts to an input format the classifier can read\n",
    "\n",
    "The classifier, i.e., a computer program, will perform certain mathematical operations on each tweet to determine which class it belongs to. We thus have to feed the classifier with a mathematical representation of the tweet. We will used a method called 'bag of words' to find mathemical representations (in the form of **vectors**) for each tweet text. "
   ]
  },
  {
   "cell_type": "markdown",
   "metadata": {},
   "source": [
    "### Convert the tweets to vectors"
   ]
  },
  {
   "cell_type": "code",
   "execution_count": 81,
   "metadata": {},
   "outputs": [],
   "source": [
    "tfidf = TfidfVectorizer(sublinear_tf=True, min_df=5, norm='l2', encoding='latin-1', ngram_range=(1, 2), stop_words='english')\n",
    "features = tfidf.fit_transform(tweet_dataset.Text).toarray()\n",
    "labels = tweet_dataset.Labeled_Vacancy\n"
   ]
  },
  {
   "cell_type": "markdown",
   "metadata": {},
   "source": [
    "### (Intermezzo: Check the important words per class)"
   ]
  },
  {
   "cell_type": "code",
   "execution_count": 86,
   "metadata": {},
   "outputs": [
    {
     "name": "stdout",
     "output_type": "stream",
     "text": [
      "# 'other':\n",
      "  . Most correlated unigrams:\n",
      ". apply\n",
      ". link\n",
      ". join\n",
      ". ny\n",
      ". gt\n",
      ". click\n",
      ". good\n",
      ". looking\n",
      ". hiring\n",
      ". jobs\n",
      "  . Most correlated bigrams:\n",
      ". click link\n",
      ". link bio\n",
      ". gt gt\n",
      ". good job\n",
      ". great job\n",
      "# 'vacancy':\n",
      "  . Most correlated unigrams:\n",
      ". apply\n",
      ". link\n",
      ". join\n",
      ". ny\n",
      ". gt\n",
      ". click\n",
      ". good\n",
      ". looking\n",
      ". hiring\n",
      ". jobs\n",
      "  . Most correlated bigrams:\n",
      ". click link\n",
      ". link bio\n",
      ". gt gt\n",
      ". good job\n",
      ". great job\n"
     ]
    }
   ],
   "source": [
    "\n",
    "#class_to_labels = {\n",
    "#    'mobility' : 0, \n",
    "#    'politics' : 1, \n",
    "#    'sprouts' : 2, \n",
    "#    'other' : 3\n",
    "#}\n",
    "\n",
    "class_to_labels = {\n",
    "    'other' : 0, \n",
    "    'vacancy' : 1, \n",
    "}\n",
    "\n",
    "#category_id_df = df[['Product', 'category_id']].drop_duplicates().sort_values('category_id')\n",
    "#category_to_id = dict(category_id_df.values)\n",
    "#id_to_category = dict(category_id_df[['category_id', 'Product']].values)\n",
    "#df.head()\n",
    "\n",
    "\n",
    "N = 10\n",
    "for category, label in sorted(class_to_labels.items()):\n",
    "    features_chi2 = chi2(features, labels==label)\n",
    "    indices = np.argsort(features_chi2[0])\n",
    "    feature_names = np.array(tfidf.get_feature_names())[indices]\n",
    "    unigrams = [v for v in feature_names if len(v.split(' ')) == 1]\n",
    "    bigrams = [v for v in feature_names if len(v.split(' ')) == 2]\n",
    "    print(\"# '{}':\".format(category))\n",
    "    print(\"  . Most correlated unigrams:\\n. {}\".format('\\n. '.join(unigrams[-N:])))\n",
    "    print(\"  . Most correlated bigrams:\\n. {}\".format('\\n. '.join(bigrams[-N:])))"
   ]
  },
  {
   "cell_type": "markdown",
   "metadata": {},
   "source": [
    "## Train a classifier on the tweets represented as vectors "
   ]
  },
  {
   "cell_type": "code",
   "execution_count": 87,
   "metadata": {},
   "outputs": [
    {
     "data": {
      "image/png": "[encoded data removed]",
      "text/plain": [
       "<matplotlib.figure.Figure at 0x11df38390>"
      ]
     },
     "metadata": {
      "needs_background": "light"
     },
     "output_type": "display_data"
    }
   ],
   "source": [
    "models = [\n",
    "    RandomForestClassifier(n_estimators=200, max_depth=3, random_state=0),\n",
    "    LinearSVC(),\n",
    "    LogisticRegression(random_state=0),\n",
    "]\n",
    "CV = 5\n",
    "cv_df = pd.DataFrame(index=range(CV * len(models)))\n",
    "entries = []\n",
    "for model in models:\n",
    "  model_name = model.__class__.__name__\n",
    "  accuracies = cross_val_score(model, features, labels, scoring='accuracy', cv=CV)\n",
    "  for fold_idx, accuracy in enumerate(accuracies):\n",
    "    entries.append((model_name, fold_idx, accuracy))\n",
    "cv_df = pd.DataFrame(entries, columns=['model_name', 'fold_idx', 'accuracy'])\n",
    "\n",
    "\n",
    "import seaborn as sns\n",
    "sns.boxplot(x='model_name', y='accuracy', data=cv_df)\n",
    "sns.stripplot(x='model_name', y='accuracy', data=cv_df, \n",
    "              size=8, jitter=True, edgecolor=\"gray\", linewidth=2)\n",
    "plt.show()"
   ]
  },
  {
   "cell_type": "code",
   "execution_count": 88,
   "metadata": {},
   "outputs": [
    {
     "ename": "ValueError",
     "evalue": "Found input variables with inconsistent numbers of samples: [97, 97, 431]",
     "output_type": "error",
     "traceback": [
      "\u001b[0;31m---------------------------------------------------------------------------\u001b[0m",
      "\u001b[0;31mValueError\u001b[0m                                Traceback (most recent call last)",
      "\u001b[0;32m<ipython-input-88-ba02bbd144d7>\u001b[0m in \u001b[0;36m<module>\u001b[0;34m\u001b[0m\n\u001b[1;32m      1\u001b[0m \u001b[0mmodel\u001b[0m \u001b[0;34m=\u001b[0m \u001b[0mLinearSVC\u001b[0m\u001b[0;34m(\u001b[0m\u001b[0;34m)\u001b[0m\u001b[0;34m\u001b[0m\u001b[0m\n\u001b[0;32m----> 2\u001b[0;31m \u001b[0mX_train\u001b[0m\u001b[0;34m,\u001b[0m \u001b[0mX_test\u001b[0m\u001b[0;34m,\u001b[0m \u001b[0my_train\u001b[0m\u001b[0;34m,\u001b[0m \u001b[0my_test\u001b[0m\u001b[0;34m,\u001b[0m \u001b[0mindices_train\u001b[0m\u001b[0;34m,\u001b[0m \u001b[0mindices_test\u001b[0m \u001b[0;34m=\u001b[0m \u001b[0mtrain_test_split\u001b[0m\u001b[0;34m(\u001b[0m\u001b[0mfeatures\u001b[0m\u001b[0;34m,\u001b[0m \u001b[0mlabels\u001b[0m\u001b[0;34m,\u001b[0m \u001b[0mtweet_dataset\u001b[0m\u001b[0;34m.\u001b[0m\u001b[0mindex\u001b[0m\u001b[0;34m,\u001b[0m \u001b[0mtest_size\u001b[0m\u001b[0;34m=\u001b[0m\u001b[0;36m0.33\u001b[0m\u001b[0;34m,\u001b[0m \u001b[0mrandom_state\u001b[0m\u001b[0;34m=\u001b[0m\u001b[0;36m0\u001b[0m\u001b[0;34m)\u001b[0m\u001b[0;34m\u001b[0m\u001b[0m\n\u001b[0m\u001b[1;32m      3\u001b[0m \u001b[0mmodel\u001b[0m\u001b[0;34m.\u001b[0m\u001b[0mfit\u001b[0m\u001b[0;34m(\u001b[0m\u001b[0mX_train\u001b[0m\u001b[0;34m,\u001b[0m \u001b[0my_train\u001b[0m\u001b[0;34m)\u001b[0m\u001b[0;34m\u001b[0m\u001b[0m\n\u001b[1;32m      4\u001b[0m \u001b[0my_pred\u001b[0m \u001b[0;34m=\u001b[0m \u001b[0mmodel\u001b[0m\u001b[0;34m.\u001b[0m\u001b[0mpredict\u001b[0m\u001b[0;34m(\u001b[0m\u001b[0mX_test\u001b[0m\u001b[0;34m)\u001b[0m\u001b[0;34m\u001b[0m\u001b[0m\n\u001b[1;32m      5\u001b[0m \u001b[0;34m\u001b[0m\u001b[0m\n",
      "\u001b[0;32m/Library/Frameworks/Python.framework/Versions/3.6/lib/python3.6/site-packages/sklearn/model_selection/_split.py\u001b[0m in \u001b[0;36mtrain_test_split\u001b[0;34m(*arrays, **options)\u001b[0m\n\u001b[1;32m   2013\u001b[0m         \u001b[0mtest_size\u001b[0m \u001b[0;34m=\u001b[0m \u001b[0;36m0.25\u001b[0m\u001b[0;34m\u001b[0m\u001b[0m\n\u001b[1;32m   2014\u001b[0m \u001b[0;34m\u001b[0m\u001b[0m\n\u001b[0;32m-> 2015\u001b[0;31m     \u001b[0marrays\u001b[0m \u001b[0;34m=\u001b[0m \u001b[0mindexable\u001b[0m\u001b[0;34m(\u001b[0m\u001b[0;34m*\u001b[0m\u001b[0marrays\u001b[0m\u001b[0;34m)\u001b[0m\u001b[0;34m\u001b[0m\u001b[0m\n\u001b[0m\u001b[1;32m   2016\u001b[0m \u001b[0;34m\u001b[0m\u001b[0m\n\u001b[1;32m   2017\u001b[0m     \u001b[0;32mif\u001b[0m \u001b[0mshuffle\u001b[0m \u001b[0;32mis\u001b[0m \u001b[0;32mFalse\u001b[0m\u001b[0;34m:\u001b[0m\u001b[0;34m\u001b[0m\u001b[0m\n",
      "\u001b[0;32m/Library/Frameworks/Python.framework/Versions/3.6/lib/python3.6/site-packages/sklearn/utils/validation.py\u001b[0m in \u001b[0;36mindexable\u001b[0;34m(*iterables)\u001b[0m\n\u001b[1;32m    196\u001b[0m         \u001b[0;32melse\u001b[0m\u001b[0;34m:\u001b[0m\u001b[0;34m\u001b[0m\u001b[0m\n\u001b[1;32m    197\u001b[0m             \u001b[0mresult\u001b[0m\u001b[0;34m.\u001b[0m\u001b[0mappend\u001b[0m\u001b[0;34m(\u001b[0m\u001b[0mnp\u001b[0m\u001b[0;34m.\u001b[0m\u001b[0marray\u001b[0m\u001b[0;34m(\u001b[0m\u001b[0mX\u001b[0m\u001b[0;34m)\u001b[0m\u001b[0;34m)\u001b[0m\u001b[0;34m\u001b[0m\u001b[0m\n\u001b[0;32m--> 198\u001b[0;31m     \u001b[0mcheck_consistent_length\u001b[0m\u001b[0;34m(\u001b[0m\u001b[0;34m*\u001b[0m\u001b[0mresult\u001b[0m\u001b[0;34m)\u001b[0m\u001b[0;34m\u001b[0m\u001b[0m\n\u001b[0m\u001b[1;32m    199\u001b[0m     \u001b[0;32mreturn\u001b[0m \u001b[0mresult\u001b[0m\u001b[0;34m\u001b[0m\u001b[0m\n\u001b[1;32m    200\u001b[0m \u001b[0;34m\u001b[0m\u001b[0m\n",
      "\u001b[0;32m/Library/Frameworks/Python.framework/Versions/3.6/lib/python3.6/site-packages/sklearn/utils/validation.py\u001b[0m in \u001b[0;36mcheck_consistent_length\u001b[0;34m(*arrays)\u001b[0m\n\u001b[1;32m    171\u001b[0m     \u001b[0;32mif\u001b[0m \u001b[0mlen\u001b[0m\u001b[0;34m(\u001b[0m\u001b[0muniques\u001b[0m\u001b[0;34m)\u001b[0m \u001b[0;34m>\u001b[0m \u001b[0;36m1\u001b[0m\u001b[0;34m:\u001b[0m\u001b[0;34m\u001b[0m\u001b[0m\n\u001b[1;32m    172\u001b[0m         raise ValueError(\"Found input variables with inconsistent numbers of\"\n\u001b[0;32m--> 173\u001b[0;31m                          \" samples: %r\" % [int(l) for l in lengths])\n\u001b[0m\u001b[1;32m    174\u001b[0m \u001b[0;34m\u001b[0m\u001b[0m\n\u001b[1;32m    175\u001b[0m \u001b[0;34m\u001b[0m\u001b[0m\n",
      "\u001b[0;31mValueError\u001b[0m: Found input variables with inconsistent numbers of samples: [97, 97, 431]"
     ]
    }
   ],
   "source": [
    "model = LinearSVC()\n",
    "X_train, X_test, y_train, y_test, indices_train, indices_test = train_test_split(features, labels, tweet_dataset.index, test_size=0.33, random_state=0)\n",
    "model.fit(X_train, y_train)\n",
    "y_pred = model.predict(X_test)\n",
    "\n",
    "\n",
    "conf_mat = confusion_matrix(y_test, y_pred)\n",
    "fig, ax = plt.subplots(figsize=(10,10))\n",
    "#sns.heatmap(conf_mat, annot=True, fmt='d',xticklabels=category_id_df.Product.values, yticklabels=category_id_df.Product.values)\n",
    "sns.heatmap(conf_mat, annot=True, fmt='d')\n",
    "plt.ylabel('Actual')\n",
    "plt.xlabel('Predicted')\n",
    "plt.show()"
   ]
  },
  {
   "cell_type": "code",
   "execution_count": null,
   "metadata": {},
   "outputs": [],
   "source": []
  }
 ],
 "metadata": {
  "kernelspec": {
   "display_name": "Python 3",
   "language": "python",
   "name": "python3"
  },
  "language_info": {
   "codemirror_mode": {
    "name": "ipython",
    "version": 3
   },
   "file_extension": ".py",
   "mimetype": "text/x-python",
   "name": "python",
   "nbconvert_exporter": "python",
   "pygments_lexer": "ipython3",
   "version": "3.6.3"
  }
 },
 "nbformat": 4,
 "nbformat_minor": 2
}
