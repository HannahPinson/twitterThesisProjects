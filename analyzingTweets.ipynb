{
 "cells": [
  {
   "cell_type": "markdown",
   "metadata": {},
   "source": [
    "# Twitter Thesis Project: Analyzing tweets "
   ]
  },
  {
   "cell_type": "markdown",
   "metadata": {},
   "source": [
    "## Label your tweets (this is a manual step!)\n",
    "\n",
    "\n",
    "In order to teach the computer how to classify the tweets automatically, we have to feed the program a lot of tweets together with the class they belong to. These example tweets have to be 'labeled' (given a label that indicates which class they belong to) by someone who can tell the correct class simply from reading the tweet (you). \n",
    "\n",
    "These are the steps you can take to prepare your tweet dataset for classification:\n",
    "\n",
    "- decide on the classes you want to use. \n",
    "- number these classes from 0 to the number of classes you have - 1. E.g., if you have 4 classes, you need to use the labels 0,1,2,3. \n",
    "- add a column to your dataset (or safer: create a copy of your dataset and add a new column there) where you add the correct label for each of your tweets. To start, try to label at least 100 tweets for each class. It will become clear later on if the classifier needs more examples to learn from. \n",
    "\n",
    "**Example: tweets with the keyword 'brussel'**\n",
    "\n",
    "As an example application, we have collected (through streaming) a number of tweets which contain the keyword 'brussel'. Since the keyword is Dutch, most of the collected tweets are also in Dutch. We would like to train a classifier that automically determines whether a new tweet belongs to one of the following classes: mobility (0), politics or opinion on politics (1), brussels sprouts (2), other (3). We have changed the original file of collected tweets by adding a column with the correct labels. Examples of each class include:\n",
    "\n",
    "*De trein tussen Brussel en Mechelen, eender welke, da's toch echt roulette spelen: welke komt met het minste vertra… https://t.co/wJ4uXA906d* **(label: 0)**\n",
    "\n",
    "*@peeters_kris1 @Europarl_NL Mijnheer Peeters, hieronder het nefaste resultaat van de Europese immigratiepolitiek. D… https://t.co/Ia92qNOMcQ* **(label: 1)**\n",
    "\n",
    "*@GavinWren Tamales\n",
    "Brussel Sprouts\n",
    "Lemons* **(label: 2)**\n",
    "\n",
    "*#Reminder | Over slechts twee dagen vindt de vierde editie van de Mansholtlezing in Brussel plaats over de eiwittra… https://t.co/XJTRGfZhZ* **(label: 3)**\n",
    "\n",
    "\n",
    "\n"
   ]
  },
  {
   "cell_type": "markdown",
   "metadata": {},
   "source": [
    "## Load all the additional libraries and tools we will use"
   ]
  },
  {
   "cell_type": "code",
   "execution_count": 72,
   "metadata": {},
   "outputs": [],
   "source": [
    "import pandas as pd #this is a datascience library that we will use to load and preprocess the tweets\n",
    "import matplotlib.pyplot as plt #this is a plotting library that we will use to make graphs\n",
    "from sklearn.feature_extraction.text import TfidfVectorizer #this is a machine learning tool we will use to find a mathematical representation of the tweets\n",
    "from sklearn.feature_selection import chi2\n",
    "\n",
    "from sklearn.utils import resample\n",
    "\n",
    "from sklearn.linear_model import LogisticRegression\n",
    "from sklearn.ensemble import RandomForestClassifier\n",
    "from sklearn.svm import LinearSVC\n",
    "from sklearn.model_selection import cross_val_score\n",
    "from sklearn.model_selection import train_test_split\n",
    "from sklearn.metrics import confusion_matrix\n",
    "\n",
    "import numpy as np"
   ]
  },
  {
   "cell_type": "markdown",
   "metadata": {},
   "source": [
    "## Load the tweets you previously collected and annotated"
   ]
  },
  {
   "cell_type": "markdown",
   "metadata": {},
   "source": [
    "### Load the annotated tweets"
   ]
  },
  {
   "cell_type": "code",
   "execution_count": 62,
   "metadata": {},
   "outputs": [
    {
     "data": {
      "text/html": [
       "<div>\n",
       "<style>\n",
       "    .dataframe thead tr:only-child th {\n",
       "        text-align: right;\n",
       "    }\n",
       "\n",
       "    .dataframe thead th {\n",
       "        text-align: left;\n",
       "    }\n",
       "\n",
       "    .dataframe tbody tr th {\n",
       "        vertical-align: top;\n",
       "    }\n",
       "</style>\n",
       "<table border=\"1\" class=\"dataframe\">\n",
       "  <thead>\n",
       "    <tr style=\"text-align: right;\">\n",
       "      <th></th>\n",
       "      <th>Date</th>\n",
       "      <th>Place</th>\n",
       "      <th>Text</th>\n",
       "      <th>Label</th>\n",
       "    </tr>\n",
       "  </thead>\n",
       "  <tbody>\n",
       "    <tr>\n",
       "      <th>0</th>\n",
       "      <td>Mon Sep 16 08:19:26 +0000 2019</td>\n",
       "      <td>NaN</td>\n",
       "      <td>@jdceulaer @DenysJan @barthaeck @BenWeyts @tij...</td>\n",
       "      <td>1</td>\n",
       "    </tr>\n",
       "    <tr>\n",
       "      <th>1</th>\n",
       "      <td>Mon Sep 16 08:19:28 +0000 2019</td>\n",
       "      <td>NaN</td>\n",
       "      <td>Van afgelopen april. Maar vanwege het filmpje,...</td>\n",
       "      <td>3</td>\n",
       "    </tr>\n",
       "    <tr>\n",
       "      <th>2</th>\n",
       "      <td>Mon Sep 16 08:21:17 +0000 2019</td>\n",
       "      <td>NaN</td>\n",
       "      <td>just got my ticket for blackbear in Brussel 🥺 ...</td>\n",
       "      <td>3</td>\n",
       "    </tr>\n",
       "    <tr>\n",
       "      <th>3</th>\n",
       "      <td>Mon Sep 16 08:21:40 +0000 2019</td>\n",
       "      <td>NaN</td>\n",
       "      <td>@IFiselier Brussel bewolkt en fris</td>\n",
       "      <td>3</td>\n",
       "    </tr>\n",
       "    <tr>\n",
       "      <th>4</th>\n",
       "      <td>Mon Sep 16 08:22:22 +0000 2019</td>\n",
       "      <td>NaN</td>\n",
       "      <td>JA ONS BELASTING GELD HAHAHAHAHA WAT EEN WEREL...</td>\n",
       "      <td>1</td>\n",
       "    </tr>\n",
       "  </tbody>\n",
       "</table>\n",
       "</div>"
      ],
      "text/plain": [
       "                             Date Place  \\\n",
       "0  Mon Sep 16 08:19:26 +0000 2019   NaN   \n",
       "1  Mon Sep 16 08:19:28 +0000 2019   NaN   \n",
       "2  Mon Sep 16 08:21:17 +0000 2019   NaN   \n",
       "3  Mon Sep 16 08:21:40 +0000 2019   NaN   \n",
       "4  Mon Sep 16 08:22:22 +0000 2019   NaN   \n",
       "\n",
       "                                                Text  Label  \n",
       "0  @jdceulaer @DenysJan @barthaeck @BenWeyts @tij...      1  \n",
       "1  Van afgelopen april. Maar vanwege het filmpje,...      3  \n",
       "2  just got my ticket for blackbear in Brussel 🥺 ...      3  \n",
       "3                 @IFiselier Brussel bewolkt en fris      3  \n",
       "4  JA ONS BELASTING GELD HAHAHAHAHA WAT EEN WEREL...      1  "
      ]
     },
     "execution_count": 62,
     "metadata": {},
     "output_type": "execute_result"
    }
   ],
   "source": [
    "tweet_dataset = pd.read_csv('annotated_tweets_keyword_brussel.csv', delimiter = ';', skiprows = 1) #you can change the name of the file you want to load here\n",
    "\n",
    "tweet_dataset = tweet_dataset[0:917]\n",
    "tweet_dataset.Label = tweet_dataset.Label.astype(int) #to make sure the labels are correclty read as integer values\n",
    "tweet_dataset.head() #this will show the top lines in your dataset\n"
   ]
  },
  {
   "cell_type": "markdown",
   "metadata": {},
   "source": [
    "### Make a graph of how many tweets per category you have"
   ]
  },
  {
   "cell_type": "code",
   "execution_count": 63,
   "metadata": {},
   "outputs": [
    {
     "data": {
      "image/png": "[encoded data removed]",
      "text/plain": [
       "<matplotlib.figure.Figure at 0x112bf4160>"
      ]
     },
     "metadata": {
      "needs_background": "light"
     },
     "output_type": "display_data"
    }
   ],
   "source": [
    "fig = plt.figure(figsize=(8,6))\n",
    "tweet_dataset.groupby('Label').Text.count().plot.bar(ylim=0)\n",
    "plt.show()"
   ]
  },
  {
   "cell_type": "code",
   "execution_count": 76,
   "metadata": {},
   "outputs": [
    {
     "data": {
      "image/png": "[encoded data removed]",
      "text/plain": [
       "<matplotlib.figure.Figure at 0x111b87240>"
      ]
     },
     "metadata": {
      "needs_background": "light"
     },
     "output_type": "display_data"
    }
   ],
   "source": [
    "# Separate majority and minority classes\n",
    "df = tweet_dataset; \n",
    "df_majority = df[df.Label==3]\n",
    "df_minority = pd.concat([df[df.Label==0],df[df.Label==1],df[df.Label==2]])\n",
    " \n",
    "# Downsample majority class\n",
    "df_majority_downsampled = resample(df_majority, \n",
    "                                 replace=False,    # sample without replacement\n",
    "                                 n_samples=200,     # to match minority class\n",
    "                                 random_state=123) # reproducible results\n",
    " \n",
    "# Combine minority class with downsampled majority class\n",
    "df_downsampled = pd.concat([df_majority_downsampled, df_minority])\n",
    " \n",
    "\n",
    "tweet_dataset = df_downsampled;\n",
    "tweet_dataset.groupby('Label').Text.count().plot.bar(ylim=0)\n",
    "plt.show()\n",
    "\n",
    "\n"
   ]
  },
  {
   "cell_type": "markdown",
   "metadata": {},
   "source": [
    "## Convert the tweet texts to an input format the classifier can read\n",
    "\n",
    "The classifier, i.e., a computer program, will perform certain mathematical operations on each tweet to determine which class it belongs to. We thus have to feed the classifier with a mathematical representation of the tweet. We will used a method called 'bag of words' to find mathemical representations (in the form of **vectors**) for each tweet text. "
   ]
  },
  {
   "cell_type": "markdown",
   "metadata": {},
   "source": [
    "### Convert the tweets to vectors"
   ]
  },
  {
   "cell_type": "code",
   "execution_count": 77,
   "metadata": {},
   "outputs": [
    {
     "data": {
      "text/plain": [
       "(678, 356)"
      ]
     },
     "execution_count": 77,
     "metadata": {},
     "output_type": "execute_result"
    }
   ],
   "source": [
    "tfidf = TfidfVectorizer(sublinear_tf=True, min_df=5, norm='l2', encoding='latin-1', ngram_range=(1, 2), stop_words='english')\n",
    "features = tfidf.fit_transform(tweet_dataset.Text).toarray()\n",
    "labels = tweet_dataset.Label\n",
    "features.shape"
   ]
  },
  {
   "cell_type": "markdown",
   "metadata": {},
   "source": [
    "### (Intermezzo: Check the important words per class)"
   ]
  },
  {
   "cell_type": "code",
   "execution_count": 78,
   "metadata": {},
   "outputs": [
    {
     "name": "stdout",
     "output_type": "stream",
     "text": [
      "# 'mobility':\n",
      "  . Most correlated unigrams:\n",
      ". trein\n",
      ". minuten\n",
      ". vertraagd\n",
      ". beneluxtrein\n",
      ". zuid\n",
      "  . Most correlated bigrams:\n",
      ". brussel sprouts\n",
      ". zuid minuten\n",
      ". naar brussel\n",
      ". minuten vertraagd\n",
      ". brussel zuid\n",
      "# 'other':\n",
      "  . Most correlated unigrams:\n",
      ". valtònyc\n",
      ". espanya\n",
      ". sprouts\n",
      ". que\n",
      ". les\n",
      "  . Most correlated bigrams:\n",
      ". que espanya\n",
      ". brussel https\n",
      ". valtònyc https\n",
      ". brussel sprouts\n",
      ". brussel les\n",
      "# 'politics':\n",
      "  . Most correlated unigrams:\n",
      ". heeft\n",
      ". de_nva\n",
      ". thierrybaudet\n",
      ". sprouts\n",
      ". eu\n",
      "  . Most correlated bigrams:\n",
      ". brussel les\n",
      ". brussel en\n",
      ". uit brussel\n",
      ". aan brussel\n",
      ". brussel sprouts\n",
      "# 'sprouts':\n",
      "  . Most correlated unigrams:\n",
      ". like\n",
      ". dinner\n",
      ". eat\n",
      ". sprout\n",
      ". sprouts\n",
      "  . Most correlated bigrams:\n",
      ". brussel en\n",
      ". brussel les\n",
      ". sprouts https\n",
      ". brussel sprout\n",
      ". brussel sprouts\n"
     ]
    }
   ],
   "source": [
    "\n",
    "class_to_labels = {\n",
    "    'mobility' : 0, \n",
    "    'politics' : 1, \n",
    "    'sprouts' : 2, \n",
    "    'other' : 3\n",
    "}\n",
    "\n",
    "#category_id_df = df[['Product', 'category_id']].drop_duplicates().sort_values('category_id')\n",
    "#category_to_id = dict(category_id_df.values)\n",
    "#id_to_category = dict(category_id_df[['category_id', 'Product']].values)\n",
    "#df.head()\n",
    "\n",
    "\n",
    "N = 5\n",
    "for category, label in sorted(class_to_labels.items()):\n",
    "  features_chi2 = chi2(features, labels == label)\n",
    "  indices = np.argsort(features_chi2[0])\n",
    "  feature_names = np.array(tfidf.get_feature_names())[indices]\n",
    "  unigrams = [v for v in feature_names if len(v.split(' ')) == 1]\n",
    "  bigrams = [v for v in feature_names if len(v.split(' ')) == 2]\n",
    "  print(\"# '{}':\".format(category))\n",
    "  print(\"  . Most correlated unigrams:\\n. {}\".format('\\n. '.join(unigrams[-N:])))\n",
    "  print(\"  . Most correlated bigrams:\\n. {}\".format('\\n. '.join(bigrams[-N:])))"
   ]
  },
  {
   "cell_type": "markdown",
   "metadata": {},
   "source": [
    "## Train a classifier on the tweets represented as vectors "
   ]
  },
  {
   "cell_type": "code",
   "execution_count": 79,
   "metadata": {},
   "outputs": [
    {
     "data": {
      "image/png": "[encoded data removed]",
      "text/plain": [
       "<matplotlib.figure.Figure at 0x114790898>"
      ]
     },
     "metadata": {
      "needs_background": "light"
     },
     "output_type": "display_data"
    }
   ],
   "source": [
    "models = [\n",
    "    RandomForestClassifier(n_estimators=200, max_depth=3, random_state=0),\n",
    "    LinearSVC(),\n",
    "    LogisticRegression(random_state=0),\n",
    "]\n",
    "CV = 5\n",
    "cv_df = pd.DataFrame(index=range(CV * len(models)))\n",
    "entries = []\n",
    "for model in models:\n",
    "  model_name = model.__class__.__name__\n",
    "  accuracies = cross_val_score(model, features, labels, scoring='accuracy', cv=CV)\n",
    "  for fold_idx, accuracy in enumerate(accuracies):\n",
    "    entries.append((model_name, fold_idx, accuracy))\n",
    "cv_df = pd.DataFrame(entries, columns=['model_name', 'fold_idx', 'accuracy'])\n",
    "\n",
    "\n",
    "import seaborn as sns\n",
    "sns.boxplot(x='model_name', y='accuracy', data=cv_df)\n",
    "sns.stripplot(x='model_name', y='accuracy', data=cv_df, \n",
    "              size=8, jitter=True, edgecolor=\"gray\", linewidth=2)\n",
    "plt.show()"
   ]
  },
  {
   "cell_type": "code",
   "execution_count": 80,
   "metadata": {},
   "outputs": [
    {
     "data": {
      "image/png": "[encoded data removed]",
      "text/plain": [
       "<matplotlib.figure.Figure at 0x1121b0198>"
      ]
     },
     "metadata": {
      "needs_background": "light"
     },
     "output_type": "display_data"
    }
   ],
   "source": [
    "model = LinearSVC()\n",
    "X_train, X_test, y_train, y_test, indices_train, indices_test = train_test_split(features, labels, tweet_dataset.index, test_size=0.33, random_state=0)\n",
    "model.fit(X_train, y_train)\n",
    "y_pred = model.predict(X_test)\n",
    "\n",
    "\n",
    "conf_mat = confusion_matrix(y_test, y_pred)\n",
    "fig, ax = plt.subplots(figsize=(10,10))\n",
    "#sns.heatmap(conf_mat, annot=True, fmt='d',xticklabels=category_id_df.Product.values, yticklabels=category_id_df.Product.values)\n",
    "sns.heatmap(conf_mat, annot=True, fmt='d')\n",
    "plt.ylabel('Actual')\n",
    "plt.xlabel('Predicted')\n",
    "plt.show()"
   ]
  },
  {
   "cell_type": "code",
   "execution_count": null,
   "metadata": {},
   "outputs": [],
   "source": []
  }
 ],
 "metadata": {
  "kernelspec": {
   "display_name": "Python 3",
   "language": "python",
   "name": "python3"
  },
  "language_info": {
   "codemirror_mode": {
    "name": "ipython",
    "version": 3
   },
   "file_extension": ".py",
   "mimetype": "text/x-python",
   "name": "python",
   "nbconvert_exporter": "python",
   "pygments_lexer": "ipython3",
   "version": "3.6.3"
  }
 },
 "nbformat": 4,
 "nbformat_minor": 2
}
